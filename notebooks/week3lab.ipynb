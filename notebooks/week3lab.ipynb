{
  "nbformat": 4,
  "nbformat_minor": 0,
  "metadata": {
    "colab": {
      "provenance": []
    },
    "kernelspec": {
      "name": "python3",
      "display_name": "Python 3"
    },
    "language_info": {
      "name": "python"
    }
  },
  "cells": [
    {
      "cell_type": "markdown",
      "source": [
        "# **（1）几何练习**\n"
      ],
      "metadata": {
        "id": "VRnc96nU5Ugk"
      }
    },
    {
      "cell_type": "code",
      "execution_count": 1,
      "metadata": {
        "colab": {
          "base_uri": "https://localhost:8080/"
        },
        "collapsed": true,
        "id": "mGosGG5045NP",
        "outputId": "cd0bfa3a-f322-4228-d277-d8d78a56c077"
      },
      "outputs": [
        {
          "output_type": "stream",
          "name": "stdout",
          "text": [
            "Requirement already satisfied: duckdb in /usr/local/lib/python3.11/dist-packages (1.1.3)\n",
            "Collecting leafmap\n",
            "  Downloading leafmap-0.42.9-py2.py3-none-any.whl.metadata (16 kB)\n",
            "Collecting anywidget (from leafmap)\n",
            "  Downloading anywidget-0.9.13-py3-none-any.whl.metadata (7.2 kB)\n",
            "Requirement already satisfied: bqplot in /usr/local/lib/python3.11/dist-packages (from leafmap) (0.12.44)\n",
            "Requirement already satisfied: colour in /usr/local/lib/python3.11/dist-packages (from leafmap) (0.1.5)\n",
            "Requirement already satisfied: folium in /usr/local/lib/python3.11/dist-packages (from leafmap) (0.19.4)\n",
            "Requirement already satisfied: gdown in /usr/local/lib/python3.11/dist-packages (from leafmap) (5.2.0)\n",
            "Collecting geojson (from leafmap)\n",
            "  Downloading geojson-3.2.0-py3-none-any.whl.metadata (16 kB)\n",
            "Requirement already satisfied: ipyevents in /usr/local/lib/python3.11/dist-packages (from leafmap) (2.0.2)\n",
            "Requirement already satisfied: ipyfilechooser in /usr/local/lib/python3.11/dist-packages (from leafmap) (0.6.0)\n",
            "Requirement already satisfied: ipyleaflet in /usr/local/lib/python3.11/dist-packages (from leafmap) (0.19.2)\n",
            "Collecting ipyvuetify (from leafmap)\n",
            "  Downloading ipyvuetify-1.10.0-py2.py3-none-any.whl.metadata (7.5 kB)\n",
            "Requirement already satisfied: ipywidgets in /usr/local/lib/python3.11/dist-packages (from leafmap) (7.7.1)\n",
            "Requirement already satisfied: matplotlib in /usr/local/lib/python3.11/dist-packages (from leafmap) (3.10.0)\n",
            "Requirement already satisfied: numpy in /usr/local/lib/python3.11/dist-packages (from leafmap) (1.26.4)\n",
            "Requirement already satisfied: pandas in /usr/local/lib/python3.11/dist-packages (from leafmap) (2.2.2)\n",
            "Requirement already satisfied: plotly in /usr/local/lib/python3.11/dist-packages (from leafmap) (5.24.1)\n",
            "Requirement already satisfied: psutil in /usr/local/lib/python3.11/dist-packages (from leafmap) (5.9.5)\n",
            "Requirement already satisfied: pyshp in /usr/local/lib/python3.11/dist-packages (from leafmap) (2.3.1)\n",
            "Collecting pystac-client (from leafmap)\n",
            "  Downloading pystac_client-0.8.5-py3-none-any.whl.metadata (5.1 kB)\n",
            "Requirement already satisfied: python-box in /usr/local/lib/python3.11/dist-packages (from leafmap) (7.3.2)\n",
            "Requirement already satisfied: scooby in /usr/local/lib/python3.11/dist-packages (from leafmap) (0.10.0)\n",
            "Collecting whiteboxgui (from leafmap)\n",
            "  Downloading whiteboxgui-2.3.0-py2.py3-none-any.whl.metadata (5.7 kB)\n",
            "Requirement already satisfied: xyzservices in /usr/local/lib/python3.11/dist-packages (from leafmap) (2025.1.0)\n",
            "Collecting psygnal>=0.8.1 (from anywidget->leafmap)\n",
            "  Downloading psygnal-0.11.1-cp311-cp311-manylinux_2_17_x86_64.manylinux2014_x86_64.whl.metadata (7.2 kB)\n",
            "Requirement already satisfied: typing-extensions>=4.2.0 in /usr/local/lib/python3.11/dist-packages (from anywidget->leafmap) (4.12.2)\n",
            "Requirement already satisfied: ipykernel>=4.5.1 in /usr/local/lib/python3.11/dist-packages (from ipywidgets->leafmap) (5.5.6)\n",
            "Requirement already satisfied: ipython-genutils~=0.2.0 in /usr/local/lib/python3.11/dist-packages (from ipywidgets->leafmap) (0.2.0)\n",
            "Requirement already satisfied: traitlets>=4.3.1 in /usr/local/lib/python3.11/dist-packages (from ipywidgets->leafmap) (5.7.1)\n",
            "Requirement already satisfied: widgetsnbextension~=3.6.0 in /usr/local/lib/python3.11/dist-packages (from ipywidgets->leafmap) (3.6.10)\n",
            "Requirement already satisfied: ipython>=4.0.0 in /usr/local/lib/python3.11/dist-packages (from ipywidgets->leafmap) (7.34.0)\n",
            "Requirement already satisfied: jupyterlab-widgets>=1.0.0 in /usr/local/lib/python3.11/dist-packages (from ipywidgets->leafmap) (3.0.13)\n",
            "Requirement already satisfied: traittypes>=0.0.6 in /usr/local/lib/python3.11/dist-packages (from bqplot->leafmap) (0.2.1)\n",
            "Requirement already satisfied: python-dateutil>=2.8.2 in /usr/local/lib/python3.11/dist-packages (from pandas->leafmap) (2.8.2)\n",
            "Requirement already satisfied: pytz>=2020.1 in /usr/local/lib/python3.11/dist-packages (from pandas->leafmap) (2024.2)\n",
            "Requirement already satisfied: tzdata>=2022.7 in /usr/local/lib/python3.11/dist-packages (from pandas->leafmap) (2025.1)\n",
            "Requirement already satisfied: branca>=0.6.0 in /usr/local/lib/python3.11/dist-packages (from folium->leafmap) (0.8.1)\n",
            "Requirement already satisfied: jinja2>=2.9 in /usr/local/lib/python3.11/dist-packages (from folium->leafmap) (3.1.5)\n",
            "Requirement already satisfied: requests in /usr/local/lib/python3.11/dist-packages (from folium->leafmap) (2.32.3)\n",
            "Requirement already satisfied: beautifulsoup4 in /usr/local/lib/python3.11/dist-packages (from gdown->leafmap) (4.12.3)\n",
            "Requirement already satisfied: filelock in /usr/local/lib/python3.11/dist-packages (from gdown->leafmap) (3.17.0)\n",
            "Requirement already satisfied: tqdm in /usr/local/lib/python3.11/dist-packages (from gdown->leafmap) (4.67.1)\n",
            "Requirement already satisfied: jupyter-leaflet<0.20,>=0.19 in /usr/local/lib/python3.11/dist-packages (from ipyleaflet->leafmap) (0.19.2)\n",
            "Collecting ipyvue<2,>=1.7 (from ipyvuetify->leafmap)\n",
            "  Downloading ipyvue-1.11.2-py2.py3-none-any.whl.metadata (1.1 kB)\n",
            "Requirement already satisfied: contourpy>=1.0.1 in /usr/local/lib/python3.11/dist-packages (from matplotlib->leafmap) (1.3.1)\n",
            "Requirement already satisfied: cycler>=0.10 in /usr/local/lib/python3.11/dist-packages (from matplotlib->leafmap) (0.12.1)\n",
            "Requirement already satisfied: fonttools>=4.22.0 in /usr/local/lib/python3.11/dist-packages (from matplotlib->leafmap) (4.55.7)\n",
            "Requirement already satisfied: kiwisolver>=1.3.1 in /usr/local/lib/python3.11/dist-packages (from matplotlib->leafmap) (1.4.8)\n",
            "Requirement already satisfied: packaging>=20.0 in /usr/local/lib/python3.11/dist-packages (from matplotlib->leafmap) (24.2)\n",
            "Requirement already satisfied: pillow>=8 in /usr/local/lib/python3.11/dist-packages (from matplotlib->leafmap) (11.1.0)\n",
            "Requirement already satisfied: pyparsing>=2.3.1 in /usr/local/lib/python3.11/dist-packages (from matplotlib->leafmap) (3.2.1)\n",
            "Requirement already satisfied: tenacity>=6.2.0 in /usr/local/lib/python3.11/dist-packages (from plotly->leafmap) (9.0.0)\n",
            "Collecting pystac>=1.10.0 (from pystac[validation]>=1.10.0->pystac-client->leafmap)\n",
            "  Downloading pystac-1.12.1-py3-none-any.whl.metadata (4.6 kB)\n",
            "Requirement already satisfied: ipytree in /usr/local/lib/python3.11/dist-packages (from whiteboxgui->leafmap) (0.2.2)\n",
            "Collecting whitebox (from whiteboxgui->leafmap)\n",
            "  Downloading whitebox-2.3.5-py2.py3-none-any.whl.metadata (10 kB)\n",
            "Requirement already satisfied: jupyter-client in /usr/local/lib/python3.11/dist-packages (from ipykernel>=4.5.1->ipywidgets->leafmap) (6.1.12)\n",
            "Requirement already satisfied: tornado>=4.2 in /usr/local/lib/python3.11/dist-packages (from ipykernel>=4.5.1->ipywidgets->leafmap) (6.4.2)\n",
            "Requirement already satisfied: setuptools>=18.5 in /usr/local/lib/python3.11/dist-packages (from ipython>=4.0.0->ipywidgets->leafmap) (75.1.0)\n",
            "Collecting jedi>=0.16 (from ipython>=4.0.0->ipywidgets->leafmap)\n",
            "  Downloading jedi-0.19.2-py2.py3-none-any.whl.metadata (22 kB)\n",
            "Requirement already satisfied: decorator in /usr/local/lib/python3.11/dist-packages (from ipython>=4.0.0->ipywidgets->leafmap) (4.4.2)\n",
            "Requirement already satisfied: pickleshare in /usr/local/lib/python3.11/dist-packages (from ipython>=4.0.0->ipywidgets->leafmap) (0.7.5)\n",
            "Requirement already satisfied: prompt-toolkit!=3.0.0,!=3.0.1,<3.1.0,>=2.0.0 in /usr/local/lib/python3.11/dist-packages (from ipython>=4.0.0->ipywidgets->leafmap) (3.0.50)\n",
            "Requirement already satisfied: pygments in /usr/local/lib/python3.11/dist-packages (from ipython>=4.0.0->ipywidgets->leafmap) (2.18.0)\n",
            "Requirement already satisfied: backcall in /usr/local/lib/python3.11/dist-packages (from ipython>=4.0.0->ipywidgets->leafmap) (0.2.0)\n",
            "Requirement already satisfied: matplotlib-inline in /usr/local/lib/python3.11/dist-packages (from ipython>=4.0.0->ipywidgets->leafmap) (0.1.7)\n",
            "Requirement already satisfied: pexpect>4.3 in /usr/local/lib/python3.11/dist-packages (from ipython>=4.0.0->ipywidgets->leafmap) (4.9.0)\n",
            "Requirement already satisfied: MarkupSafe>=2.0 in /usr/local/lib/python3.11/dist-packages (from jinja2>=2.9->folium->leafmap) (3.0.2)\n",
            "Requirement already satisfied: jsonschema~=4.18 in /usr/local/lib/python3.11/dist-packages (from pystac[validation]>=1.10.0->pystac-client->leafmap) (4.23.0)\n",
            "Requirement already satisfied: six>=1.5 in /usr/local/lib/python3.11/dist-packages (from python-dateutil>=2.8.2->pandas->leafmap) (1.17.0)\n",
            "Requirement already satisfied: charset-normalizer<4,>=2 in /usr/local/lib/python3.11/dist-packages (from requests->folium->leafmap) (3.4.1)\n",
            "Requirement already satisfied: idna<4,>=2.5 in /usr/local/lib/python3.11/dist-packages (from requests->folium->leafmap) (3.10)\n",
            "Requirement already satisfied: urllib3<3,>=1.21.1 in /usr/local/lib/python3.11/dist-packages (from requests->folium->leafmap) (2.3.0)\n",
            "Requirement already satisfied: certifi>=2017.4.17 in /usr/local/lib/python3.11/dist-packages (from requests->folium->leafmap) (2024.12.14)\n",
            "Requirement already satisfied: notebook>=4.4.1 in /usr/local/lib/python3.11/dist-packages (from widgetsnbextension~=3.6.0->ipywidgets->leafmap) (6.5.5)\n",
            "Requirement already satisfied: soupsieve>1.2 in /usr/local/lib/python3.11/dist-packages (from beautifulsoup4->gdown->leafmap) (2.6)\n",
            "Requirement already satisfied: PySocks!=1.5.7,>=1.5.6 in /usr/local/lib/python3.11/dist-packages (from requests[socks]->gdown->leafmap) (1.7.1)\n",
            "Requirement already satisfied: Click>=6.0 in /usr/local/lib/python3.11/dist-packages (from whitebox->whiteboxgui->leafmap) (8.1.8)\n",
            "Requirement already satisfied: parso<0.9.0,>=0.8.4 in /usr/local/lib/python3.11/dist-packages (from jedi>=0.16->ipython>=4.0.0->ipywidgets->leafmap) (0.8.4)\n",
            "Requirement already satisfied: attrs>=22.2.0 in /usr/local/lib/python3.11/dist-packages (from jsonschema~=4.18->pystac[validation]>=1.10.0->pystac-client->leafmap) (25.1.0)\n",
            "Requirement already satisfied: jsonschema-specifications>=2023.03.6 in /usr/local/lib/python3.11/dist-packages (from jsonschema~=4.18->pystac[validation]>=1.10.0->pystac-client->leafmap) (2024.10.1)\n",
            "Requirement already satisfied: referencing>=0.28.4 in /usr/local/lib/python3.11/dist-packages (from jsonschema~=4.18->pystac[validation]>=1.10.0->pystac-client->leafmap) (0.36.2)\n",
            "Requirement already satisfied: rpds-py>=0.7.1 in /usr/local/lib/python3.11/dist-packages (from jsonschema~=4.18->pystac[validation]>=1.10.0->pystac-client->leafmap) (0.22.3)\n",
            "Requirement already satisfied: pyzmq<25,>=17 in /usr/local/lib/python3.11/dist-packages (from notebook>=4.4.1->widgetsnbextension~=3.6.0->ipywidgets->leafmap) (24.0.1)\n",
            "Requirement already satisfied: argon2-cffi in /usr/local/lib/python3.11/dist-packages (from notebook>=4.4.1->widgetsnbextension~=3.6.0->ipywidgets->leafmap) (23.1.0)\n",
            "Requirement already satisfied: jupyter-core>=4.6.1 in /usr/local/lib/python3.11/dist-packages (from notebook>=4.4.1->widgetsnbextension~=3.6.0->ipywidgets->leafmap) (5.7.2)\n",
            "Requirement already satisfied: nbformat in /usr/local/lib/python3.11/dist-packages (from notebook>=4.4.1->widgetsnbextension~=3.6.0->ipywidgets->leafmap) (5.10.4)\n",
            "Requirement already satisfied: nbconvert>=5 in /usr/local/lib/python3.11/dist-packages (from notebook>=4.4.1->widgetsnbextension~=3.6.0->ipywidgets->leafmap) (7.16.6)\n",
            "Requirement already satisfied: nest-asyncio>=1.5 in /usr/local/lib/python3.11/dist-packages (from notebook>=4.4.1->widgetsnbextension~=3.6.0->ipywidgets->leafmap) (1.6.0)\n",
            "Requirement already satisfied: Send2Trash>=1.8.0 in /usr/local/lib/python3.11/dist-packages (from notebook>=4.4.1->widgetsnbextension~=3.6.0->ipywidgets->leafmap) (1.8.3)\n",
            "Requirement already satisfied: terminado>=0.8.3 in /usr/local/lib/python3.11/dist-packages (from notebook>=4.4.1->widgetsnbextension~=3.6.0->ipywidgets->leafmap) (0.18.1)\n",
            "Requirement already satisfied: prometheus-client in /usr/local/lib/python3.11/dist-packages (from notebook>=4.4.1->widgetsnbextension~=3.6.0->ipywidgets->leafmap) (0.21.1)\n",
            "Requirement already satisfied: nbclassic>=0.4.7 in /usr/local/lib/python3.11/dist-packages (from notebook>=4.4.1->widgetsnbextension~=3.6.0->ipywidgets->leafmap) (1.2.0)\n",
            "Requirement already satisfied: ptyprocess>=0.5 in /usr/local/lib/python3.11/dist-packages (from pexpect>4.3->ipython>=4.0.0->ipywidgets->leafmap) (0.7.0)\n",
            "Requirement already satisfied: wcwidth in /usr/local/lib/python3.11/dist-packages (from prompt-toolkit!=3.0.0,!=3.0.1,<3.1.0,>=2.0.0->ipython>=4.0.0->ipywidgets->leafmap) (0.2.13)\n",
            "Requirement already satisfied: platformdirs>=2.5 in /usr/local/lib/python3.11/dist-packages (from jupyter-core>=4.6.1->notebook>=4.4.1->widgetsnbextension~=3.6.0->ipywidgets->leafmap) (4.3.6)\n",
            "Requirement already satisfied: notebook-shim>=0.2.3 in /usr/local/lib/python3.11/dist-packages (from nbclassic>=0.4.7->notebook>=4.4.1->widgetsnbextension~=3.6.0->ipywidgets->leafmap) (0.2.4)\n",
            "Requirement already satisfied: bleach!=5.0.0 in /usr/local/lib/python3.11/dist-packages (from bleach[css]!=5.0.0->nbconvert>=5->notebook>=4.4.1->widgetsnbextension~=3.6.0->ipywidgets->leafmap) (6.2.0)\n",
            "Requirement already satisfied: defusedxml in /usr/local/lib/python3.11/dist-packages (from nbconvert>=5->notebook>=4.4.1->widgetsnbextension~=3.6.0->ipywidgets->leafmap) (0.7.1)\n",
            "Requirement already satisfied: jupyterlab-pygments in /usr/local/lib/python3.11/dist-packages (from nbconvert>=5->notebook>=4.4.1->widgetsnbextension~=3.6.0->ipywidgets->leafmap) (0.3.0)\n",
            "Requirement already satisfied: mistune<4,>=2.0.3 in /usr/local/lib/python3.11/dist-packages (from nbconvert>=5->notebook>=4.4.1->widgetsnbextension~=3.6.0->ipywidgets->leafmap) (3.1.1)\n",
            "Requirement already satisfied: nbclient>=0.5.0 in /usr/local/lib/python3.11/dist-packages (from nbconvert>=5->notebook>=4.4.1->widgetsnbextension~=3.6.0->ipywidgets->leafmap) (0.10.2)\n",
            "Requirement already satisfied: pandocfilters>=1.4.1 in /usr/local/lib/python3.11/dist-packages (from nbconvert>=5->notebook>=4.4.1->widgetsnbextension~=3.6.0->ipywidgets->leafmap) (1.5.1)\n",
            "Requirement already satisfied: fastjsonschema>=2.15 in /usr/local/lib/python3.11/dist-packages (from nbformat->notebook>=4.4.1->widgetsnbextension~=3.6.0->ipywidgets->leafmap) (2.21.1)\n",
            "Requirement already satisfied: argon2-cffi-bindings in /usr/local/lib/python3.11/dist-packages (from argon2-cffi->notebook>=4.4.1->widgetsnbextension~=3.6.0->ipywidgets->leafmap) (21.2.0)\n",
            "Requirement already satisfied: webencodings in /usr/local/lib/python3.11/dist-packages (from bleach!=5.0.0->bleach[css]!=5.0.0->nbconvert>=5->notebook>=4.4.1->widgetsnbextension~=3.6.0->ipywidgets->leafmap) (0.5.1)\n",
            "Requirement already satisfied: tinycss2<1.5,>=1.1.0 in /usr/local/lib/python3.11/dist-packages (from bleach[css]!=5.0.0->nbconvert>=5->notebook>=4.4.1->widgetsnbextension~=3.6.0->ipywidgets->leafmap) (1.4.0)\n",
            "Requirement already satisfied: jupyter-server<3,>=1.8 in /usr/local/lib/python3.11/dist-packages (from notebook-shim>=0.2.3->nbclassic>=0.4.7->notebook>=4.4.1->widgetsnbextension~=3.6.0->ipywidgets->leafmap) (1.24.0)\n",
            "Requirement already satisfied: cffi>=1.0.1 in /usr/local/lib/python3.11/dist-packages (from argon2-cffi-bindings->argon2-cffi->notebook>=4.4.1->widgetsnbextension~=3.6.0->ipywidgets->leafmap) (1.17.1)\n",
            "Requirement already satisfied: pycparser in /usr/local/lib/python3.11/dist-packages (from cffi>=1.0.1->argon2-cffi-bindings->argon2-cffi->notebook>=4.4.1->widgetsnbextension~=3.6.0->ipywidgets->leafmap) (2.22)\n",
            "Requirement already satisfied: anyio<4,>=3.1.0 in /usr/local/lib/python3.11/dist-packages (from jupyter-server<3,>=1.8->notebook-shim>=0.2.3->nbclassic>=0.4.7->notebook>=4.4.1->widgetsnbextension~=3.6.0->ipywidgets->leafmap) (3.7.1)\n",
            "Requirement already satisfied: websocket-client in /usr/local/lib/python3.11/dist-packages (from jupyter-server<3,>=1.8->notebook-shim>=0.2.3->nbclassic>=0.4.7->notebook>=4.4.1->widgetsnbextension~=3.6.0->ipywidgets->leafmap) (1.8.0)\n",
            "Requirement already satisfied: sniffio>=1.1 in /usr/local/lib/python3.11/dist-packages (from anyio<4,>=3.1.0->jupyter-server<3,>=1.8->notebook-shim>=0.2.3->nbclassic>=0.4.7->notebook>=4.4.1->widgetsnbextension~=3.6.0->ipywidgets->leafmap) (1.3.1)\n",
            "Downloading leafmap-0.42.9-py2.py3-none-any.whl (515 kB)\n",
            "\u001b[2K   \u001b[90m━━━━━━━━━━━━━━━━━━━━━━━━━━━━━━━━━━━━━━━━\u001b[0m \u001b[32m515.2/515.2 kB\u001b[0m \u001b[31m7.6 MB/s\u001b[0m eta \u001b[36m0:00:00\u001b[0m\n",
            "\u001b[?25hDownloading anywidget-0.9.13-py3-none-any.whl (213 kB)\n",
            "\u001b[2K   \u001b[90m━━━━━━━━━━━━━━━━━━━━━━━━━━━━━━━━━━━━━━━━\u001b[0m \u001b[32m213.7/213.7 kB\u001b[0m \u001b[31m15.7 MB/s\u001b[0m eta \u001b[36m0:00:00\u001b[0m\n",
            "\u001b[?25hDownloading geojson-3.2.0-py3-none-any.whl (15 kB)\n",
            "Downloading ipyvuetify-1.10.0-py2.py3-none-any.whl (6.1 MB)\n",
            "\u001b[2K   \u001b[90m━━━━━━━━━━━━━━━━━━━━━━━━━━━━━━━━━━━━━━━━\u001b[0m \u001b[32m6.1/6.1 MB\u001b[0m \u001b[31m58.2 MB/s\u001b[0m eta \u001b[36m0:00:00\u001b[0m\n",
            "\u001b[?25hDownloading pystac_client-0.8.5-py3-none-any.whl (41 kB)\n",
            "\u001b[2K   \u001b[90m━━━━━━━━━━━━━━━━━━━━━━━━━━━━━━━━━━━━━━━━\u001b[0m \u001b[32m41.9/41.9 kB\u001b[0m \u001b[31m2.4 MB/s\u001b[0m eta \u001b[36m0:00:00\u001b[0m\n",
            "\u001b[?25hDownloading whiteboxgui-2.3.0-py2.py3-none-any.whl (108 kB)\n",
            "\u001b[2K   \u001b[90m━━━━━━━━━━━━━━━━━━━━━━━━━━━━━━━━━━━━━━━━\u001b[0m \u001b[32m108.6/108.6 kB\u001b[0m \u001b[31m7.3 MB/s\u001b[0m eta \u001b[36m0:00:00\u001b[0m\n",
            "\u001b[?25hDownloading ipyvue-1.11.2-py2.py3-none-any.whl (2.7 MB)\n",
            "\u001b[2K   \u001b[90m━━━━━━━━━━━━━━━━━━━━━━━━━━━━━━━━━━━━━━━━\u001b[0m \u001b[32m2.7/2.7 MB\u001b[0m \u001b[31m30.6 MB/s\u001b[0m eta \u001b[36m0:00:00\u001b[0m\n",
            "\u001b[?25hDownloading psygnal-0.11.1-cp311-cp311-manylinux_2_17_x86_64.manylinux2014_x86_64.whl (717 kB)\n",
            "\u001b[2K   \u001b[90m━━━━━━━━━━━━━━━━━━━━━━━━━━━━━━━━━━━━━━━━\u001b[0m \u001b[32m717.6/717.6 kB\u001b[0m \u001b[31m26.5 MB/s\u001b[0m eta \u001b[36m0:00:00\u001b[0m\n",
            "\u001b[?25hDownloading pystac-1.12.1-py3-none-any.whl (194 kB)\n",
            "\u001b[2K   \u001b[90m━━━━━━━━━━━━━━━━━━━━━━━━━━━━━━━━━━━━━━━━\u001b[0m \u001b[32m194.2/194.2 kB\u001b[0m \u001b[31m13.1 MB/s\u001b[0m eta \u001b[36m0:00:00\u001b[0m\n",
            "\u001b[?25hDownloading whitebox-2.3.5-py2.py3-none-any.whl (72 kB)\n",
            "\u001b[2K   \u001b[90m━━━━━━━━━━━━━━━━━━━━━━━━━━━━━━━━━━━━━━━━\u001b[0m \u001b[32m72.4/72.4 kB\u001b[0m \u001b[31m4.4 MB/s\u001b[0m eta \u001b[36m0:00:00\u001b[0m\n",
            "\u001b[?25hDownloading jedi-0.19.2-py2.py3-none-any.whl (1.6 MB)\n",
            "\u001b[2K   \u001b[90m━━━━━━━━━━━━━━━━━━━━━━━━━━━━━━━━━━━━━━━━\u001b[0m \u001b[32m1.6/1.6 MB\u001b[0m \u001b[31m51.9 MB/s\u001b[0m eta \u001b[36m0:00:00\u001b[0m\n",
            "\u001b[?25hInstalling collected packages: whitebox, psygnal, jedi, geojson, pystac, pystac-client, ipyvue, anywidget, whiteboxgui, ipyvuetify, leafmap\n",
            "Successfully installed anywidget-0.9.13 geojson-3.2.0 ipyvue-1.11.2 ipyvuetify-1.10.0 jedi-0.19.2 leafmap-0.42.9 psygnal-0.11.1 pystac-1.12.1 pystac-client-0.8.5 whitebox-2.3.5 whiteboxgui-2.3.0\n"
          ]
        }
      ],
      "source": [
        "# 安装\n",
        "%pip install duckdb leafmap"
      ]
    },
    {
      "cell_type": "code",
      "source": [
        "# 导入库\n",
        "import duckdb\n",
        "import leafmap"
      ],
      "metadata": {
        "id": "Lsec_c_J5uI_"
      },
      "execution_count": 2,
      "outputs": []
    },
    {
      "cell_type": "code",
      "source": [
        "# 数据\n",
        "url = \"https://open.gishub.org/data/duckdb/nyc_data.db.zip\"\n",
        "leafmap.download_file(url, unzip=True)"
      ],
      "metadata": {
        "colab": {
          "base_uri": "https://localhost:8080/",
          "height": 125
        },
        "id": "Xnwafi_l6HmC",
        "outputId": "add331ce-2dce-412d-c0d2-9c2a040d4fcd"
      },
      "execution_count": 3,
      "outputs": [
        {
          "output_type": "stream",
          "name": "stderr",
          "text": [
            "Downloading...\n",
            "From: https://open.gishub.org/data/duckdb/nyc_data.db.zip\n",
            "To: /content/nyc_data.db.zip\n",
            "100%|██████████| 8.60M/8.60M [00:00<00:00, 25.1MB/s]\n"
          ]
        },
        {
          "output_type": "stream",
          "name": "stdout",
          "text": [
            "Extracting files...\n"
          ]
        },
        {
          "output_type": "execute_result",
          "data": {
            "text/plain": [
              "'/content/nyc_data.db.zip'"
            ],
            "application/vnd.google.colaboratory.intrinsic+json": {
              "type": "string"
            }
          },
          "metadata": {},
          "execution_count": 3
        }
      ]
    },
    {
      "cell_type": "code",
      "source": [
        "# 连接到duckDBdb\n",
        "con = duckdb.connect(\"nyc_data.db\")"
      ],
      "metadata": {
        "id": "8ni9zLHG6IGb"
      },
      "execution_count": 4,
      "outputs": []
    },
    {
      "cell_type": "code",
      "source": [
        "con.install_extension(\"spatial\")\n",
        "con.load_extension(\"spatial\")"
      ],
      "metadata": {
        "id": "16uYjjGr6KjB"
      },
      "execution_count": 5,
      "outputs": []
    },
    {
      "cell_type": "code",
      "source": [
        "con.sql(\"SHOW TABLES;\")"
      ],
      "metadata": {
        "colab": {
          "base_uri": "https://localhost:8080/"
        },
        "id": "6iF-gpQl6K4d",
        "outputId": "b468f772-c446-44c7-d12d-cf4c507a7e3d"
      },
      "execution_count": 6,
      "outputs": [
        {
          "output_type": "execute_result",
          "data": {
            "text/plain": [
              "┌─────────────────────┐\n",
              "│        name         │\n",
              "│       varchar       │\n",
              "├─────────────────────┤\n",
              "│ nyc_census_blocks   │\n",
              "│ nyc_homicides       │\n",
              "│ nyc_neighborhoods   │\n",
              "│ nyc_streets         │\n",
              "│ nyc_subway_stations │\n",
              "└─────────────────────┘"
            ]
          },
          "metadata": {},
          "execution_count": 6
        }
      ]
    },
    {
      "cell_type": "markdown",
      "source": [
        "1.What is the area of the 'West Village' neighborhood?\n",
        "  “西村”街区的面积是多少？（提示：面积以平方米为单位。要得到以公顷为单位的面积，请除以 10000。要得到以英亩为单位的面积，请除以 4047。）"
      ],
      "metadata": {
        "id": "OmUhfx2W6yg6"
      }
    },
    {
      "cell_type": "code",
      "source": [
        "con.sql(\"SELECT * from nyc_neighborhoods LIMIT 5\")"
      ],
      "metadata": {
        "colab": {
          "base_uri": "https://localhost:8080/"
        },
        "collapsed": true,
        "id": "Lxisnkb86zz2",
        "outputId": "5f5fe12a-d356-4661-ad4d-42b908f9cf07"
      },
      "execution_count": 7,
      "outputs": [
        {
          "output_type": "execute_result",
          "data": {
            "text/plain": [
              "┌───────────┬──────────────────────────┬──────────────────────────────────────────────────────────────────────────────────────────────────────────────────────────────────────────────────────────────────────────────────────────────────────────────────────────────────────────────────────────────────────────────────────────────────────────────────────────────────────────────────────────────────────────────────────────────────────────────────────────────────────────────────────────────────────────────────────────────────────────────────────────────────────────────────────────────────────────────────────────────────────────────────────────────────────────────────────────────────────────────────────────────────────────────────────────────────────────────────────────────────────────────────────────────────────────────────────────────────────────────────────────────────────────────────────────────────────────────────────────────────────────────────────────────────────────────────────────────────────────────────────────────────────────────────────────────────────────────────────────────────────────────────────────────────────────────────────────────────────────────────────────────────────────────────────────────────────────────────────────────────────────────────────────────────────────────────────────────────────────────────────────────────────────────────────────────────────────────────────────────────────────────────────────────────────────────────────────────────────────────────────────────────────────────────────────────────────────────────────────────────────────────────────────────────────────────────────────────────────────────────────────────────────────────────────────────────────────────────────────────────────────────────────────────────────────────────────────────────────────────────────────────────────────────────────────────────────────────────────────────────────────────────────────────────────────────────────────────────────────────────────────────────────────────────────────────────────────────────────────────────────────────────────────────────────────────────────────────────────────────────────────────────────────────────────────────────────────────────────────────────────────────────────────────────────────────────────────────────────────────────────────────────────────────────────────────────────────────────────────────────────────────────────────────────────────────────────────────────────────────────────────────────────────────────────────────────────────────────────────────────────────────────────────────────────────────────────────────────────────────────────────────────────────────────────────────────────────────────────────────────────────────────────────────────────────────────────────────────────────────────────────────────────────────────────────────────────────────────────────────────────────────────────────────────────────────────────────────────────────────────────────────────────────────────────────────────────────────────────────────────────────────────────────────────────────────────────────────────────────────────────────────────────────────────────────────────────────────────────────────────────────────────────────────────────────────────────────────────────────────────────────────────────────────────────────────────────────────────────────────────────────────────────────────────────────────────────────────────────────────────────────────────────────────────────────────────────────────────────────────────────────────────────────────────────────────────────────────────────────────────────────────────────────────────────────────────────────────────────────────────────────────────────────────────────────────────────────────────────────────────────────────────────────────────────────────────────────────────────────────────────────┐\n",
              "│ BORONAME  │           NAME           │                                                                                                                                                                                                                                                                                                                                                                                                                                                                                                                                                                                                                                                                                                                                                                                                                                                                                                                                                                                                                                                                                                                                                                                                                                                                                                                                                                                                                                                                                                                                                                                                                                                                                                                                                                                                                                                                                                                                                                   geom                                                                                                                                                                                                                                                                                                                                                                                                                                                                                                                                                                                                                                                                                                                                                                                                                                                                                                                                                                                                                                                                                                                                                                                                                                                                                                                                                                                                                                                                                                                                                                                                                                                                                                                                                                                                                                                                                                                                                                   │\n",
              "│  varchar  │         varchar          │                                                                                                                                                                                                                                                                                                                                                                                                                                                                                                                                                                                                                                                                                                                                                                                                                                                                                                                                                                                                                                                                                                                                                                                                                                                                                                                                                                                                                                                                                                                                                                                                                                                                                                                                                                                                                                                                                                                                                                 geometry                                                                                                                                                                                                                                                                                                                                                                                                                                                                                                                                                                                                                                                                                                                                                                                                                                                                                                                                                                                                                                                                                                                                                                                                                                                                                                                                                                                                                                                                                                                                                                                                                                                                                                                                                                                                                                                                                                                                                                 │\n",
              "├───────────┼──────────────────────────┼──────────────────────────────────────────────────────────────────────────────────────────────────────────────────────────────────────────────────────────────────────────────────────────────────────────────────────────────────────────────────────────────────────────────────────────────────────────────────────────────────────────────────────────────────────────────────────────────────────────────────────────────────────────────────────────────────────────────────────────────────────────────────────────────────────────────────────────────────────────────────────────────────────────────────────────────────────────────────────────────────────────────────────────────────────────────────────────────────────────────────────────────────────────────────────────────────────────────────────────────────────────────────────────────────────────────────────────────────────────────────────────────────────────────────────────────────────────────────────────────────────────────────────────────────────────────────────────────────────────────────────────────────────────────────────────────────────────────────────────────────────────────────────────────────────────────────────────────────────────────────────────────────────────────────────────────────────────────────────────────────────────────────────────────────────────────────────────────────────────────────────────────────────────────────────────────────────────────────────────────────────────────────────────────────────────────────────────────────────────────────────────────────────────────────────────────────────────────────────────────────────────────────────────────────────────────────────────────────────────────────────────────────────────────────────────────────────────────────────────────────────────────────────────────────────────────────────────────────────────────────────────────────────────────────────────────────────────────────────────────────────────────────────────────────────────────────────────────────────────────────────────────────────────────────────────────────────────────────────────────────────────────────────────────────────────────────────────────────────────────────────────────────────────────────────────────────────────────────────────────────────────────────────────────────────────────────────────────────────────────────────────────────────────────────────────────────────────────────────────────────────────────────────────────────────────────────────────────────────────────────────────────────────────────────────────────────────────────────────────────────────────────────────────────────────────────────────────────────────────────────────────────────────────────────────────────────────────────────────────────────────────────────────────────────────────────────────────────────────────────────────────────────────────────────────────────────────────────────────────────────────────────────────────────────────────────────────────────────────────────────────────────────────────────────────────────────────────────────────────────────────────────────────────────────────────────────────────────────────────────────────────────────────────────────────────────────────────────────────────────────────────────────────────────────────────────────────────────────────────────────────────────────────────────────────────────────────────────────────────────────────────────────────────────────────────────────────────────────────────────────────────────────────────────────────────────────────────────────────────────────────────────────────────────────────────────────────────────────────────────────────────────────────────────────────────────────────────────────────────────────────────────────────────────────────────────────────────────────────────────────────────────────────────┤\n",
              "│ Brooklyn  │ Bensonhurst              │ MULTIPOLYGON (((582771.4257198056 4495167.427365481, 584651.2943549604 4497541.64252024, 585422.2807558172 4496946.878818268, 586886.9685500104 4495817.449966315, 585588.6556524017 4495630.326774346, 584465.0125448668 4494198.883010179, 584332.4288763426 4494179.2236701315, 584199.7371319681 4494374.26086377, 584033.4428052086 4494549.90133414, 583829.2610803288 4494765.574784693, 583573.8426533843 4494910.491737136, 583299.143872625 4495034.007512174, 583134.003659393 4495034.322667328, 583027.5867306096 4495034.527694217, 582926.2536556575 4495088.579070913, 582904.7205756706 4495172.444347731, 582771.4257198056 4495167.427365481)))                                                                                                                                                                                                                                                                                                                                                                                                                                                                                                                                                                                                                                                                                                                                                                                                                                                                                                                                                                                                                                                                                                                                                                                                                                                                                                                                                                                                                                                                                                                                                                                                                                                                                                                                                                                                                                                                                                                                                                                                                                                                                                                                                                                                                                                                                                                                                                                                                                                                                                                                                                                                                                                                                                                                                                                                                                                                                                                                                                                                                                                                                                                                                                                                                                                                       │\n",
              "│ Manhattan │ East Village             │ MULTIPOLYGON (((585508.7534890148 4509691.267208001, 586826.3570590394 4508984.187757114, 586726.8266811748 4508315.2793459995, 586679.9131030195 4508101.723288005, 586517.2549411744 4508132.003026812, 585074.2132099707 4508672.638244084, 585159.3496987872 4509010.012589641, 585508.7534890148 4509691.267208001)))                                                                                                                                                                                                                                                                                                                                                                                                                                                                                                                                                                                                                                                                                                                                                                                                                                                                                                                                                                                                                                                                                                                                                                                                                                                                                                                                                                                                                                                                                                                                                                                                                                                                                                                                                                                                                                                                                                                                                                                                                                                                                                                                                                                                                                                                                                                                                                                                                                                                                                                                                                                                                                                                                                                                                                                                                                                                                                                                                                                                                                                                                                                                                                                                                                                                                                                                                                                                                                                                                                                                                                                                               │\n",
              "│ Manhattan │ West Village             │ MULTIPOLYGON (((583263.2776595836 4509242.626023987, 583276.8199068634 4509378.825446927, 583473.9709606677 4509359.908944457, 583491.1922605946 4509436.712101899, 583162.105573362 4509573.023287381, 583183.7629211799 4509612.891701841, 583504.9003739061 4509468.566869254, 583533.7302729086 4509585.126406943, 583541.023197051 4509651.251073344, 583282.0086540785 4509632.486606753, 583281.5338872194 4509674.7484293375, 583540.6957782047 4509680.306080814, 583544.2379807131 4509722.613197348, 583535.7248487498 4509764.78446308, 583294.6488446215 4509759.43009883, 583300.3796810757 4509785.911472392, 583535.4272034232 4509791.198110681, 583538.5228633031 4509873.125708335, 583317.51254869 4509870.638359524, 583329.1816586802 4509905.111607115, 583542.1244806302 4509910.150107043, 583543.3894299655 4509976.20688658, 583338.3069588535 4509987.1068621725, 583335.9414585796 4510018.780658739, 583548.8810140223 4510023.819403051, 583544.7581002652 4510211.333753768, 583341.8694029977 4510206.407989682, 583347.36205056 4510254.020356839, 583542.2845745855 4510252.516427664, 583547.4483807002 4510329.184002983, 583438.9590783941 4510327.961884845, 583440.6113059511 4510359.680905153, 583498.8738294676 4510360.337047188, 583441.8471933601 4510428.379068074, 583443.4101552721 4510468.022196671, 583579.7556511705 4510493.33384979, 583587.1959170152 4510546.251834389, 583358.5261442101 4510511.975929038, 583358.2587679623 4510535.748236739, 583592.9845851838 4510567.450755248, 583596.2577262815 4510633.530279973, 583359.525036557 4510601.805025731, 583359.3170689037 4510620.294600859, 583602.0462911119 4510654.729212196, 583601.7185282243 4510683.784265051, 584454.9210194235 4510273.151246954, 584352.745014016 4510049.939239385, 584296.2888293362 4509964.920445205, 584278.6717916562 4509880.343595843, 584017.0762156185 4509266.760846779, 584008.1256703736 4509162.296346837, 583263.2776595836 4509242.626023987)))                                                                                                                                                                                                                                                                                                                                                                                                                                                                                                                                                                                                                                                                                                                                                                                                                                                                                                                                                                                                                                                                                                                                                                                                                                                                                                                                                                                                                                                                                                                                                                                                                                                                                                                                                                                                                                                                                                                              │\n",
              "│ The Bronx │ Throggs Neck             │ MULTIPOLYGON (((597640.0090688139 4520272.719938631, 597647.7457808304 4520617.823833214, 597805.4623332877 4520819.960597546, 597878.6249854298 4521032.094287584, 597931.6037540045 4521092.448791311, 598266.0867798029 4521228.985909233, 598757.0433108982 4521460.905405185, 599029.0438826726 4521492.798690803, 599096.9461139666 4521500.762109415, 599241.9036277813 4521479.804335613, 599418.461476838 4521331.58972788, 599595.2874084674 4521312.836666776, 599723.7078080951 4521163.980147008, 599842.6106365457 4521186.976669538, 599916.6524845032 4520677.832879145, 600060.2435381206 4520447.287595684, 600124.8041275557 4520273.795709883, 600045.7626274597 4520182.899899011, 600048.4128736127 4520135.381308734, 600022.9723033247 4520087.482414758, 600055.6841607039 4520043.0127395885, 600087.8209820004 4519892.858818116, 600123.1225561302 4519946.395901283, 600161.2753383211 4519951.9762300765, 600209.7543471354 4519928.856262942, 600478.3015409126 4520104.227732078, 600597.4034420279 4520053.0098490445, 600693.9856191074 4519739.936709929, 600737.3938293639 4519500.113520933, 600905.293071451 4519256.705301182, 601053.4290825004 4519285.148423957, 601147.6219804806 4519209.379167136, 601345.1530706773 4519120.232484792, 601405.5322617773 4519075.974909664, 601453.283170465 4518960.385410899, 601294.9203811209 4518916.623264255, 601235.2640578775 4518834.509002786, 601224.779797591 4518790.811527401, 601127.3838430132 4518720.788511151, 601071.0348195625 4518643.402169766, 600914.8583265594 4518614.849367764, 600931.5499048576 4518715.470159639, 600749.7347290997 4518948.120627931, 600663.8923841454 4519034.143286834, 600684.5002329078 4518961.93299454, 600722.9631288509 4518915.9109908445, 600770.6309637551 4518887.641355698, 600799.770970967 4518811.423038724, 600814.1174565032 4518642.535942996, 600846.8762128241 4518595.428240203, 600921.3838423872 4518577.951590956, 600995.0757481833 4518473.281210941, 601038.2681994779 4518397.255740077, 601210.5198621892 4518311.904167609, 601341.7223466886 4518307.64519081, 601892.595646195 4518013.415593194, 601965.8199228204 4518042.687387788, 601932.1792909071 4518090.673182386, 601993.3416091778 4518049.123129865, 602007.546812808 4517964.5320957, 602050.4870618329 4517854.094072141, 602000.445878392 4517756.504347565, 601866.7355424821 4517719.333319229, 601758.0968230546 4517755.184081489, 601525.2322856379 4517956.884545081, 601397.4700114181 4517989.449827651, 601105.1380930035 4518222.647520472, 600887.0300024322 4518188.377823386, 600695.9936236856 4518362.412128591, 600342.4996476651 4518636.119356346, 600318.667954324 4518617.302531132, 600085.0105650919 4518677.541252358, 599803.0053002761 4518721.282897129, 599531.1395278109 4518638.360352296, 599503.9277999783 4518668.25744711, 598984.7100596358 4518442.2565036, 598669.2634793944 4518365.259064471, 598577.3876685546 4517765.394419941, 598092.3198808016 4517823.920942951, 597784.2041045491 4518504.879820429, 597823.133391542 4518748.448158125, 597838.7476381387 4518933.5867506005, 597800.6682052631 4519081.02839689, 597910.6789583242 4519412.720778555, 597922.0656570506 4519613.65518414, 597719.1306424476 4520086.508852349, 597640.0090688139 4520272.719938631)))                                                                                                                                                                                                                                                                                                                                                                                                                                                                                                                                                                                    │\n",
              "│ The Bronx │ Wakefield-Williamsbridge │ MULTIPOLYGON (((595285.2053417757 4525938.79838847, 595348.5452399419 4526158.77658661, 595671.9997836913 4527275.4561173525, 595829.1855866828 4527510.890637648, 595819.4533298136 4527610.7896521855, 595851.2859305621 4527698.094411979, 595907.8699993403 4527945.358289409, 595916.445446843 4528111.168918353, 596028.6612462169 4528383.406999635, 596054.7875557225 4528378.695633523, 596065.9556372814 4528404.100226992, 596064.6887864184 4528442.477518802, 596064.9284996934 4528482.895104354, 596054.8195129838 4528493.877248134, 596020.7655686005 4528518.692477232, 596075.8882127621 4528583.063767203, 596140.6533643901 4528554.607872304, 596159.9469313315 4528544.7560128365, 596188.7957898732 4528566.350138052, 596233.6610807853 4528594.215703389, 596255.2166980196 4528704.6267096745, 596254.8340258606 4528733.9222925715, 596257.7678357849 4528744.064216642, 596265.247613189 4528758.307056575, 596270.4279438667 4528772.51975479, 596281.6342351472 4528794.894139422, 596290.5543341604 4528816.228340585, 596311.7769813448 4528834.692254604, 596306.8614699392 4528858.876744814, 596305.9762323657 4528867.958451503, 596311.8303762616 4528889.252614148, 596320.6974417869 4528914.6275887275, 596323.6574912703 4528922.74912529, 596329.6172691605 4528935.961845583, 596335.4449507265 4528959.276343519, 596338.5370425407 4528957.296114822, 596341.62913745 4528955.315778999, 596345.4877155309 4528953.345466689, 596386.3593010032 4528993.284223884, 596411.7569924787 4528985.533551282, 596437.4187083824 4529016.180320676, 596438.2909579496 4529008.108890371, 596442.8365950516 4529012.209810859, 596491.6492846322 4529031.0354613885, 596512.3415921716 4529089.907623172, 596507.0285973635 4529144.3976504095, 596494.6866478059 4529150.298192814, 596449.1645687107 4529172.940576666, 596481.960275867 4529244.095399866, 596538.9607980403 4529398.417596457, 596680.6615586327 4529406.337977241, 596816.4266177865 4529457.628836258, 596674.2329253387 4529253.688437275, 596578.3722091533 4529081.679557744, 596607.7210489372 4529064.888063095, 596635.470998369 4529053.127576297, 596731.4055877954 4529044.282802005, 596798.3691870084 4529140.136650472, 596970.4081722831 4529056.517715845, 597092.6867475535 4528968.205384401, 597170.4288198266 4528943.971053519, 597239.2408693179 4528899.412276797, 597288.5192748326 4528882.886568602, 597293.8915215267 4528824.356182635, 597296.7910878528 4528778.92790276, 597322.2172444694 4528769.160029231, 597418.4237988461 4528740.1202450385, 597496.2140907426 4528770.449699958, 597582.8627724302 4528768.56555723, 597600.0419547654 4528686.953274282, 597611.3878291076 4528640.626608534, 597615.5948499854 4528612.392035488, 597617.5560241425 4528580.086165834, 597627.6235277217 4528514.545614551, 597634.063093494 4528491.392511483, 597647.5081777251 4528460.249247229, 597664.8660591005 4528423.095644562, 597696.9882320367 4528370.982253799, 597699.3546619528 4528365.96174336, 597702.5412099105 4528356.910665846, 597703.3612434025 4528352.880097039, 597788.0480520491 4528268.121950354, 597807.6774353826 4528175.428523523, 597733.4674431465 4528048.148035687, 597809.0567247177 4527804.895718639, 597877.8341772085 4527657.106387655, 598286.4434087118 4527545.225464531, 598226.8464316825 4527372.347721818, 598193.8865036367 4527122.661481283, 597933.5895280526 4527037.775792052, 597578.3549584771 4527042.466581872, 597642.8393232693 4526739.542828271, 597873.607385378 4526185.165624861, 597626.5874000243 4526107.2591236485, 597492.3113924239 4525963.182024442, 597215.6076798759 4525749.794061645, 596815.6438804592 4525547.512973853, 596615.384109106 4525320.587572792, 596495.2254513791 4525367.556479004, 595402.5569736996 4525794.787503286, 595324.3291602866 4525819.071762822, 595285.2053417757 4525938.79838847))) │\n",
              "└───────────┴──────────────────────────┴──────────────────────────────────────────────────────────────────────────────────────────────────────────────────────────────────────────────────────────────────────────────────────────────────────────────────────────────────────────────────────────────────────────────────────────────────────────────────────────────────────────────────────────────────────────────────────────────────────────────────────────────────────────────────────────────────────────────────────────────────────────────────────────────────────────────────────────────────────────────────────────────────────────────────────────────────────────────────────────────────────────────────────────────────────────────────────────────────────────────────────────────────────────────────────────────────────────────────────────────────────────────────────────────────────────────────────────────────────────────────────────────────────────────────────────────────────────────────────────────────────────────────────────────────────────────────────────────────────────────────────────────────────────────────────────────────────────────────────────────────────────────────────────────────────────────────────────────────────────────────────────────────────────────────────────────────────────────────────────────────────────────────────────────────────────────────────────────────────────────────────────────────────────────────────────────────────────────────────────────────────────────────────────────────────────────────────────────────────────────────────────────────────────────────────────────────────────────────────────────────────────────────────────────────────────────────────────────────────────────────────────────────────────────────────────────────────────────────────────────────────────────────────────────────────────────────────────────────────────────────────────────────────────────────────────────────────────────────────────────────────────────────────────────────────────────────────────────────────────────────────────────────────────────────────────────────────────────────────────────────────────────────────────────────────────────────────────────────────────────────────────────────────────────────────────────────────────────────────────────────────────────────────────────────────────────────────────────────────────────────────────────────────────────────────────────────────────────────────────────────────────────────────────────────────────────────────────────────────────────────────────────────────────────────────────────────────────────────────────────────────────────────────────────────────────────────────────────────────────────────────────────────────────────────────────────────────────────────────────────────────────────────────────────────────────────────────────────────────────────────────────────────────────────────────────────────────────────────────────────────────────────────────────────────────────────────────────────────────────────────────────────────────────────────────────────────────────────────────────────────────────────────────────────────────────────────────────────────────────────────────────────────────────────────────────────────────────────────────────────────────────────────────────────────────────────────────────────────────────────────────────────────────────────────────────────────────────────────────────────────────────────────────────────────────────────────────────────────────────────────────────────────────────────────────────────────────────────────────────────────────────────────────────────────────────────────────────────────────────────────────────────────────────────────────────────────────────────────────────────────────────────────────────────────────────────────────────────────────────────────────────────────────────┘"
            ]
          },
          "metadata": {},
          "execution_count": 7
        }
      ]
    },
    {
      "cell_type": "code",
      "source": [
        "con.sql(\"\"\"\n",
        "SELECT\n",
        "    ST_Area(geom) AS area_in_square_meters,\n",
        "    ST_Area(geom) / 10000 AS area_in_hectares,\n",
        "    ST_Area(geom) / 4047 AS area_in_acres\n",
        "FROM\n",
        "    nyc_neighborhoods\n",
        "WHERE\n",
        "    NAME = 'West Village'\n",
        "\"\"\")"
      ],
      "metadata": {
        "colab": {
          "base_uri": "https://localhost:8080/"
        },
        "id": "vplAl9IV77cQ",
        "outputId": "8ed9c22e-d611-4ee9-8e78-142182e999ed"
      },
      "execution_count": 10,
      "outputs": [
        {
          "output_type": "execute_result",
          "data": {
            "text/plain": [
              "┌───────────────────────┬────────────────────┬────────────────────┐\n",
              "│ area_in_square_meters │  area_in_hectares  │   area_in_acres    │\n",
              "│        double         │       double       │       double       │\n",
              "├───────────────────────┼────────────────────┼────────────────────┤\n",
              "│    1044614.5296485956 │ 104.46145296485956 │ 258.12071402238587 │\n",
              "└───────────────────────┴────────────────────┴────────────────────┘"
            ]
          },
          "metadata": {},
          "execution_count": 10
        }
      ]
    },
    {
      "cell_type": "markdown",
      "source": [
        "2. What is the geometry type of ‘Pelham St’? The length?"
      ],
      "metadata": {
        "id": "ME-KXm6b8w4b"
      }
    },
    {
      "cell_type": "code",
      "source": [
        "con.sql(\"SELECT * from nyc_streets LIMIT 2\")"
      ],
      "metadata": {
        "colab": {
          "base_uri": "https://localhost:8080/"
        },
        "id": "v8t1jVHP-a6I",
        "outputId": "53e66b3f-e12e-461c-b113-283022daea2b"
      },
      "execution_count": 17,
      "outputs": [
        {
          "output_type": "execute_result",
          "data": {
            "text/plain": [
              "┌───────┬─────────────┬─────────┬─────────────┬────────────────────────────────────────────────────────────────────────────────────────────────────────────────────────────────────────────────────────────────────────────────────────────────────────────────────────────────────────────────────────────────────────────────────────────────────────────────────────────────────────────────────────────────────────────────────────────────────────────────────────────────────────────────────────────────────────────────────────────────────────────────────────────────────────────────────────┐\n",
              "│  ID   │    NAME     │ ONEWAY  │    TYPE     │                                                                                                                                                                                                                                                                          geom                                                                                                                                                                                                                                                                          │\n",
              "│ int32 │   varchar   │ varchar │   varchar   │                                                                                                                                                                                                                                                                        geometry                                                                                                                                                                                                                                                                        │\n",
              "├───────┼─────────────┼─────────┼─────────────┼────────────────────────────────────────────────────────────────────────────────────────────────────────────────────────────────────────────────────────────────────────────────────────────────────────────────────────────────────────────────────────────────────────────────────────────────────────────────────────────────────────────────────────────────────────────────────────────────────────────────────────────────────────────────────────────────────────────────────────────────────────────────────────────────────────────────────────┤\n",
              "│     1 │ Shore Pky S │ NULL    │ residential │ MULTILINESTRING ((586785.4767897038 4492901.0014554765, 586898.2320050898 4492943.72547124, 587118.9878110565 4493001.146262758, 587234.7882154312 4493037.249899771, 587431.3615337512 4493019.236842211, 587561.2768490226 4493012.990702256))                                                                                                                                                                                                                                                                                                       │\n",
              "│     2 │ NULL        │ NULL    │ footway     │ MULTILINESTRING ((586645.0073625665 4504977.750360583, 586664.2248992481 4504988.543891153, 586672.1505418627 4504992.977345291, 586681.4789395962 4505001.757018659, 586688.6359095252 4505009.778609065, 586694.2634942597 4505025.020941579, 586697.0013043515 4505038.786255697, 586696.5672141062 4505041.223656929, 586694.6695629463 4505051.759630491, 586688.7973123307 4505058.196914113, 586680.7704003028 4505062.444128611, 586668.4258816248 4505063.743290105, 586659.7820877017 4505058.579815893, 586650.403081951 4505054.14051223)) │\n",
              "└───────┴─────────────┴─────────┴─────────────┴────────────────────────────────────────────────────────────────────────────────────────────────────────────────────────────────────────────────────────────────────────────────────────────────────────────────────────────────────────────────────────────────────────────────────────────────────────────────────────────────────────────────────────────────────────────────────────────────────────────────────────────────────────────────────────────────────────────────────────────────────────────────────────────────────────────────────────┘"
            ]
          },
          "metadata": {},
          "execution_count": 17
        }
      ]
    },
    {
      "cell_type": "code",
      "source": [
        "con.sql(\"\"\"\n",
        "SELECT\n",
        "    ST_GeometryType(geom) AS geometry_type,\n",
        "    ST_Length(geom) AS length\n",
        "FROM\n",
        "    nyc_streets\n",
        "WHERE\n",
        "    NAME = 'Pelham St';\n",
        "\"\"\")"
      ],
      "metadata": {
        "colab": {
          "base_uri": "https://localhost:8080/"
        },
        "id": "Ubbqwg5i832V",
        "outputId": "8fb58bf2-ebcf-4a59-81b6-fd990ba179e9"
      },
      "execution_count": 18,
      "outputs": [
        {
          "output_type": "execute_result",
          "data": {
            "text/plain": [
              "┌─────────────────┬───────────────────┐\n",
              "│  geometry_type  │      length       │\n",
              "│  geometry_type  │      double       │\n",
              "├─────────────────┼───────────────────┤\n",
              "│ MULTILINESTRING │ 50.32314951660229 │\n",
              "└─────────────────┴───────────────────┘"
            ]
          },
          "metadata": {},
          "execution_count": 18
        }
      ]
    },
    {
      "cell_type": "markdown",
      "source": [
        "3. What is the GeoJSON representation of the 'Broad St' subway station?"
      ],
      "metadata": {
        "id": "_4uh2hku_fNh"
      }
    },
    {
      "cell_type": "code",
      "source": [
        "con.sql(\"\"\"\n",
        "SELECT\n",
        "    NAME,\n",
        "    ST_AsGeoJSON(geom) AS geojson\n",
        "FROM\n",
        "    nyc_subway_stations\n",
        "WHERE\n",
        "    NAME = 'Broad St';\n",
        "    \"\"\")"
      ],
      "metadata": {
        "colab": {
          "base_uri": "https://localhost:8080/"
        },
        "id": "BAJWIvW1_ky8",
        "outputId": "078668c3-9d34-4ba7-8a95-0dc63d085f98"
      },
      "execution_count": 19,
      "outputs": [
        {
          "output_type": "execute_result",
          "data": {
            "text/plain": [
              "┌──────────┬──────────────────────────────────────────────────────────────────────┐\n",
              "│   NAME   │                               geojson                                │\n",
              "│ varchar  │                                 json                                 │\n",
              "├──────────┼──────────────────────────────────────────────────────────────────────┤\n",
              "│ Broad St │ {\"type\":\"Point\",\"coordinates\":[583571.9059213118,4506714.341192182]} │\n",
              "└──────────┴──────────────────────────────────────────────────────────────────────┘"
            ]
          },
          "metadata": {},
          "execution_count": 19
        }
      ]
    },
    {
      "cell_type": "markdown",
      "source": [
        "4. What is the total length of streets (in kilometers) in New York City? (Hint: The units of measurement of the spatial data are meters, there are 1000 meters in a kilometer.)"
      ],
      "metadata": {
        "id": "xwlID0QS_6QW"
      }
    },
    {
      "cell_type": "code",
      "source": [
        "con.sql(\"\"\"\n",
        "SELECT\n",
        "    SUM(ST_Length(geom)) / 1000 AS total_length_km\n",
        "FROM\n",
        "    nyc_streets;\n",
        "    \"\"\")"
      ],
      "metadata": {
        "colab": {
          "base_uri": "https://localhost:8080/"
        },
        "id": "EuxFMSyA__6u",
        "outputId": "9b5bff6f-722a-4b0c-b82d-c0ec5d006abc"
      },
      "execution_count": 20,
      "outputs": [
        {
          "output_type": "execute_result",
          "data": {
            "text/plain": [
              "┌────────────────────┐\n",
              "│  total_length_km   │\n",
              "│       double       │\n",
              "├────────────────────┤\n",
              "│ 10418.904717199997 │\n",
              "└────────────────────┘"
            ]
          },
          "metadata": {},
          "execution_count": 20
        }
      ]
    },
    {
      "cell_type": "markdown",
      "source": [
        "5. What is the area of Manhattan in acres英亩? (Hint: both nyc_census_blocks and nyc_neighborhoods have a boroname in them.)"
      ],
      "metadata": {
        "id": "IIjRZFgzAcdr"
      }
    },
    {
      "cell_type": "code",
      "source": [
        "con.sql(\"SELECT * from nyc_census_blocks LIMIT 5\")"
      ],
      "metadata": {
        "colab": {
          "base_uri": "https://localhost:8080/"
        },
        "id": "tgdi1k8NAlfa",
        "outputId": "69a7fa21-3028-4c78-f861-a82b4e6c8dc6"
      },
      "execution_count": 21,
      "outputs": [
        {
          "output_type": "execute_result",
          "data": {
            "text/plain": [
              "┌─────────────────┬────────────┬────────────┬────────────┬────────────┬────────────┬────────────┬───────────────┬─────────────────────────────────────────────────────────────────────────────────────────────────────────────────────────────────────────────────────────────────────────────────────────────────────────────────────────────────────────────────────────────────────────────────────────────────────────────────────────────────────────────────────────────────────────────────────────────────────────────────────────────────────────────────────────────────────────────────────────────────────────────────────────────────────────────────────────────────────────────────────────────────────────────────────────────────────────────────────────────────────────────────────────────────────────────────────────────────────────────────────────────────────────────────────┐\n",
              "│      BLKID      │ POPN_TOTAL │ POPN_WHITE │ POPN_BLACK │ POPN_NATIV │ POPN_ASIAN │ POPN_OTHER │   BORONAME    │                                                                                                                                                                                                                                                                                                                                                                                        geom                                                                                                                                                                                                                                                                                                                                                                                         │\n",
              "│     varchar     │   int32    │   int32    │   int32    │   int32    │   int32    │   int32    │    varchar    │                                                                                                                                                                                                                                                                                                                                                                                      geometry                                                                                                                                                                                                                                                                                                                                                                                       │\n",
              "├─────────────────┼────────────┼────────────┼────────────┼────────────┼────────────┼────────────┼───────────────┼─────────────────────────────────────────────────────────────────────────────────────────────────────────────────────────────────────────────────────────────────────────────────────────────────────────────────────────────────────────────────────────────────────────────────────────────────────────────────────────────────────────────────────────────────────────────────────────────────────────────────────────────────────────────────────────────────────────────────────────────────────────────────────────────────────────────────────────────────────────────────────────────────────────────────────────────────────────────────────────────────────────────────────────────────────────────────────────────────────────────────────────────────────────────────────┤\n",
              "│ 360850009001000 │         97 │         51 │         32 │          1 │          5 │          8 │ Staten Island │ MULTIPOLYGON (((577856.5470479821 4499583.234929237, 577862.6350194028 4499572.986942291, 577797.7431656285 4499531.836501671, 577738.664796277 4499627.642337196, 577720.2023628965 4499657.818370118, 577624.4382330556 4499647.118713528, 577613.2357513051 4499666.932090907, 577587.4900580458 4499715.230511688, 577763.9666999553 4499733.519348773, 577856.5470479821 4499583.234929237)))                                                                                                                                                                                                                                                                                                                                                                                  │\n",
              "│ 360850020011000 │         66 │         52 │          2 │          0 │          7 │          5 │ Staten Island │ MULTIPOLYGON (((578620.7173632095 4495974.817866362, 578535.3576332723 4495915.809992479, 578524.626146389 4495908.449928109, 578475.1516588356 4495981.940162353, 578550.5382256601 4496033.2756218575, 578571.6880872999 4496047.752238923, 578620.7173632095 4495974.817866362)))                                                                                                                                                                                                                                                                                                                                                                                                                                                                                                │\n",
              "│ 360850040001000 │         62 │         14 │         18 │          2 │         25 │          3 │ Staten Island │ MULTIPOLYGON (((577227.2244709881 4495995.066845497, 577155.6250310685 4495899.946972164, 577077.1787859342 4495959.14840101, 577121.3799610958 4496049.833796346, 577131.0046544907 4496068.630318046, 577227.2244709881 4495995.066845497)))                                                                                                                                                                                                                                                                                                                                                                                                                                                                                                                                      │\n",
              "│ 360850074001000 │        137 │         92 │         12 │          0 │         13 │         20 │ Staten Island │ MULTIPOLYGON (((579037.0332016965 4494421.769816227, 579000.0152762784 4494400.8946105875, 578976.4815953767 4494387.765575125, 578908.801775808 4494521.2091746535, 578974.2487792528 4494550.841294147, 579004.0863603267 4494563.909898213, 579014.1554114621 4494528.832636419, 579023.0136663909 4494493.408570291, 579030.6435324465 4494457.699749923, 579037.0332016965 4494421.769816227)))                                                                                                                                                                                                                                                                                                                                                                                │\n",
              "│ 360850096011000 │        289 │        230 │          0 │          0 │         32 │         27 │ Staten Island │ MULTIPOLYGON (((577652.4825280879 4494975.052285533, 577681.9143370368 4494930.307676212, 577720.5586226447 4494862.963829213, 577727.3289497155 4494849.754381681, 577732.581515847 4494835.767709447, 577736.1983562167 4494821.271668449, 577738.1241678909 4494806.553481156, 577741.0522650707 4494783.424021987, 577619.6171554218 4494726.97852215, 577587.3559694993 4494795.137760404, 577440.4890988736 4494723.787243782, 577407.4433355835 4494794.037897717, 577398.6917565296 4494812.944467689, 577450.8955504326 4494959.7947593825, 577471.4243214849 4494965.581638442, 577506.8288100478 4494890.028127626, 577536.1900156969 4494904.272123218, 577512.836425658 4494971.905691302, 577599.3220771316 4494978.181154193, 577652.4825280879 4494975.052285533))) │\n",
              "└─────────────────┴────────────┴────────────┴────────────┴────────────┴────────────┴────────────┴───────────────┴─────────────────────────────────────────────────────────────────────────────────────────────────────────────────────────────────────────────────────────────────────────────────────────────────────────────────────────────────────────────────────────────────────────────────────────────────────────────────────────────────────────────────────────────────────────────────────────────────────────────────────────────────────────────────────────────────────────────────────────────────────────────────────────────────────────────────────────────────────────────────────────────────────────────────────────────────────────────────────────────────────────────────────────────────────────────────────────────────────────────────────────────────────────────────────┘"
            ]
          },
          "metadata": {},
          "execution_count": 21
        }
      ]
    },
    {
      "cell_type": "code",
      "source": [
        "con.sql(\"\"\"\n",
        "SELECT\n",
        "    SUM(ST_Area(geom)) * 0.000247105 AS area_acres\n",
        "FROM\n",
        "    nyc_census_blocks\n",
        "WHERE\n",
        "    BORONAME = 'Manhattan';\n",
        "    \"\"\")"
      ],
      "metadata": {
        "colab": {
          "base_uri": "https://localhost:8080/"
        },
        "id": "Gn0kkkGUA_-M",
        "outputId": "8aab0768-a8fd-4b04-c20e-e0db800e8382"
      },
      "execution_count": 22,
      "outputs": [
        {
          "output_type": "execute_result",
          "data": {
            "text/plain": [
              "┌────────────────────┐\n",
              "│     area_acres     │\n",
              "│       double       │\n",
              "├────────────────────┤\n",
              "│ 14601.894220020411 │\n",
              "└────────────────────┘"
            ]
          },
          "metadata": {},
          "execution_count": 22
        }
      ]
    },
    {
      "cell_type": "markdown",
      "source": [
        "6. What is the most westerly subway station?"
      ],
      "metadata": {
        "id": "czY30KjcBIdg"
      }
    },
    {
      "cell_type": "code",
      "source": [
        "con.sql(\"\"\"\n",
        "SELECT\n",
        "    NAME,\n",
        "    ST_AsText(geom) AS geometry\n",
        "FROM\n",
        "    nyc_subway_stations\n",
        "ORDER BY\n",
        "    ST_X(geom) ASC\n",
        "LIMIT 1;\n",
        "    \"\"\")"
      ],
      "metadata": {
        "colab": {
          "base_uri": "https://localhost:8080/"
        },
        "id": "--WT69ISBHdD",
        "outputId": "b4556baf-f3be-4b28-faa4-25a920da45d1"
      },
      "execution_count": 23,
      "outputs": [
        {
          "output_type": "execute_result",
          "data": {
            "text/plain": [
              "┌─────────────┬─────────────────────────────────────────────┐\n",
              "│    NAME     │                  geometry                   │\n",
              "│   varchar   │                   varchar                   │\n",
              "├─────────────┼─────────────────────────────────────────────┤\n",
              "│ Tottenville │ POINT (563292.1172580556 4484900.921251608) │\n",
              "└─────────────┴─────────────────────────────────────────────┘"
            ]
          },
          "metadata": {},
          "execution_count": 23
        }
      ]
    },
    {
      "cell_type": "markdown",
      "source": [
        "7. How long is 'Columbus Cir' (aka Columbus Circle)?"
      ],
      "metadata": {
        "id": "q35V8LFMBm-y"
      }
    },
    {
      "cell_type": "code",
      "source": [
        "con.sql(\"\"\"\n",
        "SELECT *\n",
        "FROM nyc_streets\n",
        "WHERE NAME ILIKE '%Columbus Cir%';\n",
        "\"\"\")"
      ],
      "metadata": {
        "colab": {
          "base_uri": "https://localhost:8080/"
        },
        "id": "lTq2Q2pMD-Fk",
        "outputId": "b270549c-72e1-43b9-bc09-2b0bf9b32a6b"
      },
      "execution_count": 26,
      "outputs": [
        {
          "output_type": "execute_result",
          "data": {
            "text/plain": [
              "┌───────┬──────────────┬─────────┬─────────┬──────────────────────────────────────────────────────────────────────────────────────────────────────────────────────────────────────────────────────────────────────────────────────────────────────────────────────────────────────────────────────────────────────────────────────────────────────────────────────────────────────────────────────────────────────────────────────────────────────────────────────────────────────────────────────────────────────────────────────────────────────────────────────────────────────────────────────────────────────────────────────────────────────────────────────────────────────────────────────────────────────────────────────────────────────────────────────────────────────────────────────────────────────────────────────────────────────────────────────────────────────────────────────────────────────────────────────────────────────────────────────────────────────────────────────────────────────────────────────────────────────────────────────────────────────────────────────────────────────────────────────────────────────────────────────────────────────────────────────────────────────────────────────────────────────────────────────────────────────────────────────────────────────────────────────────────────────────────────────────────────────────────────────────────────────────────────────────────────────────────────────────────────────────────────────────────────────────────────────────────────────────────────────────────────────────────────────────────────────────────────────────┐\n",
              "│  ID   │     NAME     │ ONEWAY  │  TYPE   │                                                                                                                                                                                                                                                                                                                                                                                                                                                                                                                                                                                                                                                                                                                                                                                           geom                                                                                                                                                                                                                                                                                                                                                                                                                                                                                                                                                                                                                                                                                                                                                                                           │\n",
              "│ int32 │   varchar    │ varchar │ varchar │                                                                                                                                                                                                                                                                                                                                                                                                                                                                                                                                                                                                                                                                                                                                                                                         geometry                                                                                                                                                                                                                                                                                                                                                                                                                                                                                                                                                                                                                                                                                                                                                                                         │\n",
              "├───────┼──────────────┼─────────┼─────────┼──────────────────────────────────────────────────────────────────────────────────────────────────────────────────────────────────────────────────────────────────────────────────────────────────────────────────────────────────────────────────────────────────────────────────────────────────────────────────────────────────────────────────────────────────────────────────────────────────────────────────────────────────────────────────────────────────────────────────────────────────────────────────────────────────────────────────────────────────────────────────────────────────────────────────────────────────────────────────────────────────────────────────────────────────────────────────────────────────────────────────────────────────────────────────────────────────────────────────────────────────────────────────────────────────────────────────────────────────────────────────────────────────────────────────────────────────────────────────────────────────────────────────────────────────────────────────────────────────────────────────────────────────────────────────────────────────────────────────────────────────────────────────────────────────────────────────────────────────────────────────────────────────────────────────────────────────────────────────────────────────────────────────────────────────────────────────────────────────────────────────────────────────────────────────────────────────────────────────────────────────────────────────────────────────────────────────────────────────────────────────────────┤\n",
              "│ 18686 │ Columbus Cir │ yes     │ primary │ MULTILINESTRING ((585880.4300287147 4513529.824197933, 585883.3962299527 4513536.0758660305, 585888.132193046 4513542.570109284, 585893.392559214 4513547.516123239, 585900.2629032816 4513551.925706217, 585906.733148868 4513554.443269959, 585909.2573345783 4513555.138692303, 585918.8644360969 4513556.471415076, 585928.7466264939 4513555.919958967, 585936.5343515597 4513554.011935531, 585942.8937716665 4513551.532228454, 585944.6777086796 4513550.553731902, 585952.8514201208 4513545.208505344, 585961.7105064505 4513537.5397700295, 585968.1279481685 4513530.064740878, 585971.8266380621 4513524.1124654, 585974.6994036216 4513516.596285153, 585976.0807913294 4513507.397449699, 585975.5666391507 4513500.063988448, 585973.8852176688 4513492.9390190635, 585970.665172888 4513486.01823072, 585969.5873329564 4513484.3403774835, 585964.1170124931 4513476.394262454, 585957.2678326438 4513469.431348006, 585949.9916230737 4513464.350867202, 585946.87849068 4513462.760415038, 585940.2393800783 4513460.240858469, 585931.3943166498 4513458.694909985, 585923.1194269625 4513458.931949576, 585915.1666744573 4513460.505006926, 585907.6178854814 4513463.637075363, 585903.1138746295 4513466.249362007, 585895.9716342583 4513470.7184293065, 585889.23336554 4513476.746504974, 585883.6599403787 4513484.231390595, 585879.774482919 4513491.735857847, 585877.3160698427 4513499.923013281, 585876.3087151578 4513507.449761241, 585876.5424638157 4513515.679243574, 585878.5429641854 4513525.139363236, 585880.4300287147 4513529.824197933)) │\n",
              "└───────┴──────────────┴─────────┴─────────┴──────────────────────────────────────────────────────────────────────────────────────────────────────────────────────────────────────────────────────────────────────────────────────────────────────────────────────────────────────────────────────────────────────────────────────────────────────────────────────────────────────────────────────────────────────────────────────────────────────────────────────────────────────────────────────────────────────────────────────────────────────────────────────────────────────────────────────────────────────────────────────────────────────────────────────────────────────────────────────────────────────────────────────────────────────────────────────────────────────────────────────────────────────────────────────────────────────────────────────────────────────────────────────────────────────────────────────────────────────────────────────────────────────────────────────────────────────────────────────────────────────────────────────────────────────────────────────────────────────────────────────────────────────────────────────────────────────────────────────────────────────────────────────────────────────────────────────────────────────────────────────────────────────────────────────────────────────────────────────────────────────────────────────────────────────────────────────────────────────────────────────────────────────────────────────────────────────────────────────────────────────────────────────────────────────────────────────────────────────────────────────────┘"
            ]
          },
          "metadata": {},
          "execution_count": 26
        }
      ]
    },
    {
      "cell_type": "code",
      "source": [
        "con.sql(\"\"\"\n",
        "SELECT\n",
        "    NAME,\n",
        "    ST_Length(geom) AS length\n",
        "FROM\n",
        "    nyc_streets\n",
        "WHERE\n",
        "    NAME ILIKE '%Columbus Cir%';\n",
        "\"\"\")"
      ],
      "metadata": {
        "colab": {
          "base_uri": "https://localhost:8080/"
        },
        "id": "z-2LH7FTEF3K",
        "outputId": "258abd8f-3ef8-45a6-b956-9ba6eb0003c3"
      },
      "execution_count": 27,
      "outputs": [
        {
          "output_type": "execute_result",
          "data": {
            "text/plain": [
              "┌──────────────┬───────────────────┐\n",
              "│     NAME     │      length       │\n",
              "│   varchar    │      double       │\n",
              "├──────────────┼───────────────────┤\n",
              "│ Columbus Cir │ 308.3419936909855 │\n",
              "└──────────────┴───────────────────┘"
            ]
          },
          "metadata": {},
          "execution_count": 27
        }
      ]
    },
    {
      "cell_type": "markdown",
      "source": [
        "7. What is the length of streets in New York City, summarized by type?"
      ],
      "metadata": {
        "id": "QQGNekdDEc-y"
      }
    },
    {
      "cell_type": "code",
      "source": [
        "con.sql(\"\"\"\n",
        "SELECT\n",
        "    TYPE,\n",
        "    SUM(ST_Length(geom)) AS total_length\n",
        "FROM\n",
        "    nyc_streets\n",
        "GROUP BY\n",
        "    TYPE\n",
        "ORDER BY\n",
        "    total_length DESC;\n",
        "\"\"\")"
      ],
      "metadata": {
        "colab": {
          "base_uri": "https://localhost:8080/"
        },
        "id": "7Vf8ku71Eeb7",
        "outputId": "d32148b9-dee6-4d50-dbcd-4b37ee438f10"
      },
      "execution_count": 30,
      "outputs": [
        {
          "output_type": "execute_result",
          "data": {
            "text/plain": [
              "┌──────────────────────────────────────────────────┬────────────────────┐\n",
              "│                       TYPE                       │    total_length    │\n",
              "│                     varchar                      │       double       │\n",
              "├──────────────────────────────────────────────────┼────────────────────┤\n",
              "│ residential                                      │   8629870.33786606 │\n",
              "│ motorway                                         │  403622.4781263628 │\n",
              "│ tertiary                                         │  360394.8790513027 │\n",
              "│ motorway_link                                    │   294261.419479668 │\n",
              "│ secondary                                        │  276264.3038979258 │\n",
              "│ unclassified                                     │  166936.3716044583 │\n",
              "│ primary                                          │  135034.2330179469 │\n",
              "│ footway                                          │  71798.48783780965 │\n",
              "│ service                                          │ 28337.635038596007 │\n",
              "│ trunk                                            │  20353.58198260764 │\n",
              "│ cycleway                                         │  8863.751448259294 │\n",
              "│ pedestrian                                       │  4867.050328250257 │\n",
              "│ construction                                     │  4803.081621035617 │\n",
              "│ residential; motorway_link                       │ 3661.5750629374543 │\n",
              "│ trunk_link                                       │ 3202.1898124020076 │\n",
              "│ primary_link                                     │ 2492.5745708353616 │\n",
              "│ living_street                                    │ 1894.6390545733245 │\n",
              "│ primary; residential; motorway_link; residential │ 1367.7657694133486 │\n",
              "│ undefined                                        │  380.5386191034604 │\n",
              "│ steps                                            │ 282.74522134212725 │\n",
              "│ motorway_link; residential                       │ 215.07778911517033 │\n",
              "├──────────────────────────────────────────────────┴────────────────────┤\n",
              "│ 21 rows                                                     2 columns │\n",
              "└───────────────────────────────────────────────────────────────────────┘"
            ]
          },
          "metadata": {},
          "execution_count": 30
        }
      ]
    },
    {
      "cell_type": "markdown",
      "source": [
        "# （2）Spatial Relationships Exercises"
      ],
      "metadata": {
        "id": "e373wsNUE3Nf"
      }
    },
    {
      "cell_type": "markdown",
      "source": [
        "1. What is the geometry value for the street named 'Atlantic Commons'?"
      ],
      "metadata": {
        "id": "UQ3UnmS5E7xw"
      }
    },
    {
      "cell_type": "code",
      "source": [
        "con.sql(\"\"\"\n",
        "SELECT\n",
        "    NAME,\n",
        "    geom\n",
        "FROM\n",
        "    nyc_streets\n",
        "WHERE\n",
        "    NAME ILIKE 'Atlantic Commons';\n",
        "\"\"\")"
      ],
      "metadata": {
        "colab": {
          "base_uri": "https://localhost:8080/"
        },
        "id": "btOveHgaFAeA",
        "outputId": "545d3678-8a88-423b-ba9d-06300f6ec9e0"
      },
      "execution_count": 31,
      "outputs": [
        {
          "output_type": "execute_result",
          "data": {
            "text/plain": [
              "┌──────────────────┬──────────────────────────────────────────────────────────────────────────────────────────────┐\n",
              "│       NAME       │                                             geom                                             │\n",
              "│     varchar      │                                           geometry                                           │\n",
              "├──────────────────┼──────────────────────────────────────────────────────────────────────────────────────────────┤\n",
              "│ Atlantic Commons │ MULTILINESTRING ((586781.7015777241 4504202.153143394, 586863.5196448397 4504215.988170098)) │\n",
              "└──────────────────┴──────────────────────────────────────────────────────────────────────────────────────────────┘"
            ]
          },
          "metadata": {},
          "execution_count": 31
        }
      ]
    },
    {
      "cell_type": "markdown",
      "source": [
        "2. What neighborhood and borough is Atlantic Commons in?"
      ],
      "metadata": {
        "id": "VMajK2bWFyQ_"
      }
    },
    {
      "cell_type": "code",
      "source": [
        "con.sql(\"SELECT * from nyc_neighborhoods LIMIT 5\")"
      ],
      "metadata": {
        "colab": {
          "base_uri": "https://localhost:8080/"
        },
        "collapsed": true,
        "id": "Sjwno31_GJND",
        "outputId": "628626a2-ca77-49c7-e02d-fe829a7ec865"
      },
      "execution_count": 33,
      "outputs": [
        {
          "output_type": "execute_result",
          "data": {
            "text/plain": [
              "┌───────────┬──────────────────────────┬──────────────────────────────────────────────────────────────────────────────────────────────────────────────────────────────────────────────────────────────────────────────────────────────────────────────────────────────────────────────────────────────────────────────────────────────────────────────────────────────────────────────────────────────────────────────────────────────────────────────────────────────────────────────────────────────────────────────────────────────────────────────────────────────────────────────────────────────────────────────────────────────────────────────────────────────────────────────────────────────────────────────────────────────────────────────────────────────────────────────────────────────────────────────────────────────────────────────────────────────────────────────────────────────────────────────────────────────────────────────────────────────────────────────────────────────────────────────────────────────────────────────────────────────────────────────────────────────────────────────────────────────────────────────────────────────────────────────────────────────────────────────────────────────────────────────────────────────────────────────────────────────────────────────────────────────────────────────────────────────────────────────────────────────────────────────────────────────────────────────────────────────────────────────────────────────────────────────────────────────────────────────────────────────────────────────────────────────────────────────────────────────────────────────────────────────────────────────────────────────────────────────────────────────────────────────────────────────────────────────────────────────────────────────────────────────────────────────────────────────────────────────────────────────────────────────────────────────────────────────────────────────────────────────────────────────────────────────────────────────────────────────────────────────────────────────────────────────────────────────────────────────────────────────────────────────────────────────────────────────────────────────────────────────────────────────────────────────────────────────────────────────────────────────────────────────────────────────────────────────────────────────────────────────────────────────────────────────────────────────────────────────────────────────────────────────────────────────────────────────────────────────────────────────────────────────────────────────────────────────────────────────────────────────────────────────────────────────────────────────────────────────────────────────────────────────────────────────────────────────────────────────────────────────────────────────────────────────────────────────────────────────────────────────────────────────────────────────────────────────────────────────────────────────────────────────────────────────────────────────────────────────────────────────────────────────────────────────────────────────────────────────────────────────────────────────────────────────────────────────────────────────────────────────────────────────────────────────────────────────────────────────────────────────────────────────────────────────────────────────────────────────────────────────────────────────────────────────────────────────────────────────────────────────────────────────────────────────────────────────────────────────────────────────────────────────────────────────────────────────────────────────────────────────────────────────────────────────────────────────────────────────────────────────────────────────────────────────────────────────────────────────────────────────────────────────────────────────────────────────────────────────────────────────────────────────────────────────────────────────────────────────────────────┐\n",
              "│ BORONAME  │           NAME           │                                                                                                                                                                                                                                                                                                                                                                                                                                                                                                                                                                                                                                                                                                                                                                                                                                                                                                                                                                                                                                                                                                                                                                                                                                                                                                                                                                                                                                                                                                                                                                                                                                                                                                                                                                                                                                                                                                                                                                   geom                                                                                                                                                                                                                                                                                                                                                                                                                                                                                                                                                                                                                                                                                                                                                                                                                                                                                                                                                                                                                                                                                                                                                                                                                                                                                                                                                                                                                                                                                                                                                                                                                                                                                                                                                                                                                                                                                                                                                                   │\n",
              "│  varchar  │         varchar          │                                                                                                                                                                                                                                                                                                                                                                                                                                                                                                                                                                                                                                                                                                                                                                                                                                                                                                                                                                                                                                                                                                                                                                                                                                                                                                                                                                                                                                                                                                                                                                                                                                                                                                                                                                                                                                                                                                                                                                 geometry                                                                                                                                                                                                                                                                                                                                                                                                                                                                                                                                                                                                                                                                                                                                                                                                                                                                                                                                                                                                                                                                                                                                                                                                                                                                                                                                                                                                                                                                                                                                                                                                                                                                                                                                                                                                                                                                                                                                                                 │\n",
              "├───────────┼──────────────────────────┼──────────────────────────────────────────────────────────────────────────────────────────────────────────────────────────────────────────────────────────────────────────────────────────────────────────────────────────────────────────────────────────────────────────────────────────────────────────────────────────────────────────────────────────────────────────────────────────────────────────────────────────────────────────────────────────────────────────────────────────────────────────────────────────────────────────────────────────────────────────────────────────────────────────────────────────────────────────────────────────────────────────────────────────────────────────────────────────────────────────────────────────────────────────────────────────────────────────────────────────────────────────────────────────────────────────────────────────────────────────────────────────────────────────────────────────────────────────────────────────────────────────────────────────────────────────────────────────────────────────────────────────────────────────────────────────────────────────────────────────────────────────────────────────────────────────────────────────────────────────────────────────────────────────────────────────────────────────────────────────────────────────────────────────────────────────────────────────────────────────────────────────────────────────────────────────────────────────────────────────────────────────────────────────────────────────────────────────────────────────────────────────────────────────────────────────────────────────────────────────────────────────────────────────────────────────────────────────────────────────────────────────────────────────────────────────────────────────────────────────────────────────────────────────────────────────────────────────────────────────────────────────────────────────────────────────────────────────────────────────────────────────────────────────────────────────────────────────────────────────────────────────────────────────────────────────────────────────────────────────────────────────────────────────────────────────────────────────────────────────────────────────────────────────────────────────────────────────────────────────────────────────────────────────────────────────────────────────────────────────────────────────────────────────────────────────────────────────────────────────────────────────────────────────────────────────────────────────────────────────────────────────────────────────────────────────────────────────────────────────────────────────────────────────────────────────────────────────────────────────────────────────────────────────────────────────────────────────────────────────────────────────────────────────────────────────────────────────────────────────────────────────────────────────────────────────────────────────────────────────────────────────────────────────────────────────────────────────────────────────────────────────────────────────────────────────────────────────────────────────────────────────────────────────────────────────────────────────────────────────────────────────────────────────────────────────────────────────────────────────────────────────────────────────────────────────────────────────────────────────────────────────────────────────────────────────────────────────────────────────────────────────────────────────────────────────────────────────────────────────────────────────────────────────────────────────────────────────────────────────────────────────────────────────────────────────────────────────────────────────────────────────────────────────────────────────────────────────────────────────────────────────────────────────────────────────────────────────────────────────────────────────────────────────┤\n",
              "│ Brooklyn  │ Bensonhurst              │ MULTIPOLYGON (((582771.4257198056 4495167.427365481, 584651.2943549604 4497541.64252024, 585422.2807558172 4496946.878818268, 586886.9685500104 4495817.449966315, 585588.6556524017 4495630.326774346, 584465.0125448668 4494198.883010179, 584332.4288763426 4494179.2236701315, 584199.7371319681 4494374.26086377, 584033.4428052086 4494549.90133414, 583829.2610803288 4494765.574784693, 583573.8426533843 4494910.491737136, 583299.143872625 4495034.007512174, 583134.003659393 4495034.322667328, 583027.5867306096 4495034.527694217, 582926.2536556575 4495088.579070913, 582904.7205756706 4495172.444347731, 582771.4257198056 4495167.427365481)))                                                                                                                                                                                                                                                                                                                                                                                                                                                                                                                                                                                                                                                                                                                                                                                                                                                                                                                                                                                                                                                                                                                                                                                                                                                                                                                                                                                                                                                                                                                                                                                                                                                                                                                                                                                                                                                                                                                                                                                                                                                                                                                                                                                                                                                                                                                                                                                                                                                                                                                                                                                                                                                                                                                                                                                                                                                                                                                                                                                                                                                                                                                                                                                                                                                                       │\n",
              "│ Manhattan │ East Village             │ MULTIPOLYGON (((585508.7534890148 4509691.267208001, 586826.3570590394 4508984.187757114, 586726.8266811748 4508315.2793459995, 586679.9131030195 4508101.723288005, 586517.2549411744 4508132.003026812, 585074.2132099707 4508672.638244084, 585159.3496987872 4509010.012589641, 585508.7534890148 4509691.267208001)))                                                                                                                                                                                                                                                                                                                                                                                                                                                                                                                                                                                                                                                                                                                                                                                                                                                                                                                                                                                                                                                                                                                                                                                                                                                                                                                                                                                                                                                                                                                                                                                                                                                                                                                                                                                                                                                                                                                                                                                                                                                                                                                                                                                                                                                                                                                                                                                                                                                                                                                                                                                                                                                                                                                                                                                                                                                                                                                                                                                                                                                                                                                                                                                                                                                                                                                                                                                                                                                                                                                                                                                                               │\n",
              "│ Manhattan │ West Village             │ MULTIPOLYGON (((583263.2776595836 4509242.626023987, 583276.8199068634 4509378.825446927, 583473.9709606677 4509359.908944457, 583491.1922605946 4509436.712101899, 583162.105573362 4509573.023287381, 583183.7629211799 4509612.891701841, 583504.9003739061 4509468.566869254, 583533.7302729086 4509585.126406943, 583541.023197051 4509651.251073344, 583282.0086540785 4509632.486606753, 583281.5338872194 4509674.7484293375, 583540.6957782047 4509680.306080814, 583544.2379807131 4509722.613197348, 583535.7248487498 4509764.78446308, 583294.6488446215 4509759.43009883, 583300.3796810757 4509785.911472392, 583535.4272034232 4509791.198110681, 583538.5228633031 4509873.125708335, 583317.51254869 4509870.638359524, 583329.1816586802 4509905.111607115, 583542.1244806302 4509910.150107043, 583543.3894299655 4509976.20688658, 583338.3069588535 4509987.1068621725, 583335.9414585796 4510018.780658739, 583548.8810140223 4510023.819403051, 583544.7581002652 4510211.333753768, 583341.8694029977 4510206.407989682, 583347.36205056 4510254.020356839, 583542.2845745855 4510252.516427664, 583547.4483807002 4510329.184002983, 583438.9590783941 4510327.961884845, 583440.6113059511 4510359.680905153, 583498.8738294676 4510360.337047188, 583441.8471933601 4510428.379068074, 583443.4101552721 4510468.022196671, 583579.7556511705 4510493.33384979, 583587.1959170152 4510546.251834389, 583358.5261442101 4510511.975929038, 583358.2587679623 4510535.748236739, 583592.9845851838 4510567.450755248, 583596.2577262815 4510633.530279973, 583359.525036557 4510601.805025731, 583359.3170689037 4510620.294600859, 583602.0462911119 4510654.729212196, 583601.7185282243 4510683.784265051, 584454.9210194235 4510273.151246954, 584352.745014016 4510049.939239385, 584296.2888293362 4509964.920445205, 584278.6717916562 4509880.343595843, 584017.0762156185 4509266.760846779, 584008.1256703736 4509162.296346837, 583263.2776595836 4509242.626023987)))                                                                                                                                                                                                                                                                                                                                                                                                                                                                                                                                                                                                                                                                                                                                                                                                                                                                                                                                                                                                                                                                                                                                                                                                                                                                                                                                                                                                                                                                                                                                                                                                                                                                                                                                                                                                                                                                                                                              │\n",
              "│ The Bronx │ Throggs Neck             │ MULTIPOLYGON (((597640.0090688139 4520272.719938631, 597647.7457808304 4520617.823833214, 597805.4623332877 4520819.960597546, 597878.6249854298 4521032.094287584, 597931.6037540045 4521092.448791311, 598266.0867798029 4521228.985909233, 598757.0433108982 4521460.905405185, 599029.0438826726 4521492.798690803, 599096.9461139666 4521500.762109415, 599241.9036277813 4521479.804335613, 599418.461476838 4521331.58972788, 599595.2874084674 4521312.836666776, 599723.7078080951 4521163.980147008, 599842.6106365457 4521186.976669538, 599916.6524845032 4520677.832879145, 600060.2435381206 4520447.287595684, 600124.8041275557 4520273.795709883, 600045.7626274597 4520182.899899011, 600048.4128736127 4520135.381308734, 600022.9723033247 4520087.482414758, 600055.6841607039 4520043.0127395885, 600087.8209820004 4519892.858818116, 600123.1225561302 4519946.395901283, 600161.2753383211 4519951.9762300765, 600209.7543471354 4519928.856262942, 600478.3015409126 4520104.227732078, 600597.4034420279 4520053.0098490445, 600693.9856191074 4519739.936709929, 600737.3938293639 4519500.113520933, 600905.293071451 4519256.705301182, 601053.4290825004 4519285.148423957, 601147.6219804806 4519209.379167136, 601345.1530706773 4519120.232484792, 601405.5322617773 4519075.974909664, 601453.283170465 4518960.385410899, 601294.9203811209 4518916.623264255, 601235.2640578775 4518834.509002786, 601224.779797591 4518790.811527401, 601127.3838430132 4518720.788511151, 601071.0348195625 4518643.402169766, 600914.8583265594 4518614.849367764, 600931.5499048576 4518715.470159639, 600749.7347290997 4518948.120627931, 600663.8923841454 4519034.143286834, 600684.5002329078 4518961.93299454, 600722.9631288509 4518915.9109908445, 600770.6309637551 4518887.641355698, 600799.770970967 4518811.423038724, 600814.1174565032 4518642.535942996, 600846.8762128241 4518595.428240203, 600921.3838423872 4518577.951590956, 600995.0757481833 4518473.281210941, 601038.2681994779 4518397.255740077, 601210.5198621892 4518311.904167609, 601341.7223466886 4518307.64519081, 601892.595646195 4518013.415593194, 601965.8199228204 4518042.687387788, 601932.1792909071 4518090.673182386, 601993.3416091778 4518049.123129865, 602007.546812808 4517964.5320957, 602050.4870618329 4517854.094072141, 602000.445878392 4517756.504347565, 601866.7355424821 4517719.333319229, 601758.0968230546 4517755.184081489, 601525.2322856379 4517956.884545081, 601397.4700114181 4517989.449827651, 601105.1380930035 4518222.647520472, 600887.0300024322 4518188.377823386, 600695.9936236856 4518362.412128591, 600342.4996476651 4518636.119356346, 600318.667954324 4518617.302531132, 600085.0105650919 4518677.541252358, 599803.0053002761 4518721.282897129, 599531.1395278109 4518638.360352296, 599503.9277999783 4518668.25744711, 598984.7100596358 4518442.2565036, 598669.2634793944 4518365.259064471, 598577.3876685546 4517765.394419941, 598092.3198808016 4517823.920942951, 597784.2041045491 4518504.879820429, 597823.133391542 4518748.448158125, 597838.7476381387 4518933.5867506005, 597800.6682052631 4519081.02839689, 597910.6789583242 4519412.720778555, 597922.0656570506 4519613.65518414, 597719.1306424476 4520086.508852349, 597640.0090688139 4520272.719938631)))                                                                                                                                                                                                                                                                                                                                                                                                                                                                                                                                                                                    │\n",
              "│ The Bronx │ Wakefield-Williamsbridge │ MULTIPOLYGON (((595285.2053417757 4525938.79838847, 595348.5452399419 4526158.77658661, 595671.9997836913 4527275.4561173525, 595829.1855866828 4527510.890637648, 595819.4533298136 4527610.7896521855, 595851.2859305621 4527698.094411979, 595907.8699993403 4527945.358289409, 595916.445446843 4528111.168918353, 596028.6612462169 4528383.406999635, 596054.7875557225 4528378.695633523, 596065.9556372814 4528404.100226992, 596064.6887864184 4528442.477518802, 596064.9284996934 4528482.895104354, 596054.8195129838 4528493.877248134, 596020.7655686005 4528518.692477232, 596075.8882127621 4528583.063767203, 596140.6533643901 4528554.607872304, 596159.9469313315 4528544.7560128365, 596188.7957898732 4528566.350138052, 596233.6610807853 4528594.215703389, 596255.2166980196 4528704.6267096745, 596254.8340258606 4528733.9222925715, 596257.7678357849 4528744.064216642, 596265.247613189 4528758.307056575, 596270.4279438667 4528772.51975479, 596281.6342351472 4528794.894139422, 596290.5543341604 4528816.228340585, 596311.7769813448 4528834.692254604, 596306.8614699392 4528858.876744814, 596305.9762323657 4528867.958451503, 596311.8303762616 4528889.252614148, 596320.6974417869 4528914.6275887275, 596323.6574912703 4528922.74912529, 596329.6172691605 4528935.961845583, 596335.4449507265 4528959.276343519, 596338.5370425407 4528957.296114822, 596341.62913745 4528955.315778999, 596345.4877155309 4528953.345466689, 596386.3593010032 4528993.284223884, 596411.7569924787 4528985.533551282, 596437.4187083824 4529016.180320676, 596438.2909579496 4529008.108890371, 596442.8365950516 4529012.209810859, 596491.6492846322 4529031.0354613885, 596512.3415921716 4529089.907623172, 596507.0285973635 4529144.3976504095, 596494.6866478059 4529150.298192814, 596449.1645687107 4529172.940576666, 596481.960275867 4529244.095399866, 596538.9607980403 4529398.417596457, 596680.6615586327 4529406.337977241, 596816.4266177865 4529457.628836258, 596674.2329253387 4529253.688437275, 596578.3722091533 4529081.679557744, 596607.7210489372 4529064.888063095, 596635.470998369 4529053.127576297, 596731.4055877954 4529044.282802005, 596798.3691870084 4529140.136650472, 596970.4081722831 4529056.517715845, 597092.6867475535 4528968.205384401, 597170.4288198266 4528943.971053519, 597239.2408693179 4528899.412276797, 597288.5192748326 4528882.886568602, 597293.8915215267 4528824.356182635, 597296.7910878528 4528778.92790276, 597322.2172444694 4528769.160029231, 597418.4237988461 4528740.1202450385, 597496.2140907426 4528770.449699958, 597582.8627724302 4528768.56555723, 597600.0419547654 4528686.953274282, 597611.3878291076 4528640.626608534, 597615.5948499854 4528612.392035488, 597617.5560241425 4528580.086165834, 597627.6235277217 4528514.545614551, 597634.063093494 4528491.392511483, 597647.5081777251 4528460.249247229, 597664.8660591005 4528423.095644562, 597696.9882320367 4528370.982253799, 597699.3546619528 4528365.96174336, 597702.5412099105 4528356.910665846, 597703.3612434025 4528352.880097039, 597788.0480520491 4528268.121950354, 597807.6774353826 4528175.428523523, 597733.4674431465 4528048.148035687, 597809.0567247177 4527804.895718639, 597877.8341772085 4527657.106387655, 598286.4434087118 4527545.225464531, 598226.8464316825 4527372.347721818, 598193.8865036367 4527122.661481283, 597933.5895280526 4527037.775792052, 597578.3549584771 4527042.466581872, 597642.8393232693 4526739.542828271, 597873.607385378 4526185.165624861, 597626.5874000243 4526107.2591236485, 597492.3113924239 4525963.182024442, 597215.6076798759 4525749.794061645, 596815.6438804592 4525547.512973853, 596615.384109106 4525320.587572792, 596495.2254513791 4525367.556479004, 595402.5569736996 4525794.787503286, 595324.3291602866 4525819.071762822, 595285.2053417757 4525938.79838847))) │\n",
              "└───────────┴──────────────────────────┴──────────────────────────────────────────────────────────────────────────────────────────────────────────────────────────────────────────────────────────────────────────────────────────────────────────────────────────────────────────────────────────────────────────────────────────────────────────────────────────────────────────────────────────────────────────────────────────────────────────────────────────────────────────────────────────────────────────────────────────────────────────────────────────────────────────────────────────────────────────────────────────────────────────────────────────────────────────────────────────────────────────────────────────────────────────────────────────────────────────────────────────────────────────────────────────────────────────────────────────────────────────────────────────────────────────────────────────────────────────────────────────────────────────────────────────────────────────────────────────────────────────────────────────────────────────────────────────────────────────────────────────────────────────────────────────────────────────────────────────────────────────────────────────────────────────────────────────────────────────────────────────────────────────────────────────────────────────────────────────────────────────────────────────────────────────────────────────────────────────────────────────────────────────────────────────────────────────────────────────────────────────────────────────────────────────────────────────────────────────────────────────────────────────────────────────────────────────────────────────────────────────────────────────────────────────────────────────────────────────────────────────────────────────────────────────────────────────────────────────────────────────────────────────────────────────────────────────────────────────────────────────────────────────────────────────────────────────────────────────────────────────────────────────────────────────────────────────────────────────────────────────────────────────────────────────────────────────────────────────────────────────────────────────────────────────────────────────────────────────────────────────────────────────────────────────────────────────────────────────────────────────────────────────────────────────────────────────────────────────────────────────────────────────────────────────────────────────────────────────────────────────────────────────────────────────────────────────────────────────────────────────────────────────────────────────────────────────────────────────────────────────────────────────────────────────────────────────────────────────────────────────────────────────────────────────────────────────────────────────────────────────────────────────────────────────────────────────────────────────────────────────────────────────────────────────────────────────────────────────────────────────────────────────────────────────────────────────────────────────────────────────────────────────────────────────────────────────────────────────────────────────────────────────────────────────────────────────────────────────────────────────────────────────────────────────────────────────────────────────────────────────────────────────────────────────────────────────────────────────────────────────────────────────────────────────────────────────────────────────────────────────────────────────────────────────────────────────────────────────────────────────────────────────────────────────────────────────────────────────────────────────────────────────────────────────────────────────────────────────────────────────────────────────────────────────────────────────────────────────────────────────────────────────────────────────────────────────────────────────────────────────────────────────┘"
            ]
          },
          "metadata": {},
          "execution_count": 33
        }
      ]
    },
    {
      "cell_type": "code",
      "source": [
        "con.sql(\"\"\"\n",
        "SELECT\n",
        "    n.NAME,\n",
        "    n.BORONAME\n",
        "FROM\n",
        "    nyc_streets s\n",
        "JOIN\n",
        "    nyc_neighborhoods n\n",
        "ON\n",
        "    ST_Intersects(s.geom, n.geom)  -- 假设使用几何相交来确定位置\n",
        "WHERE\n",
        "    s.NAME ILIKE 'Atlantic Commons';\n",
        "\"\"\")"
      ],
      "metadata": {
        "colab": {
          "base_uri": "https://localhost:8080/"
        },
        "id": "kfoT0lcWFxMF",
        "outputId": "a6e1be0a-cc67-4d34-f910-a6fa12d01941"
      },
      "execution_count": 34,
      "outputs": [
        {
          "output_type": "execute_result",
          "data": {
            "text/plain": [
              "┌────────────┬──────────┐\n",
              "│    NAME    │ BORONAME │\n",
              "│  varchar   │ varchar  │\n",
              "├────────────┼──────────┤\n",
              "│ Fort Green │ Brooklyn │\n",
              "└────────────┴──────────┘"
            ]
          },
          "metadata": {},
          "execution_count": 34
        }
      ]
    },
    {
      "cell_type": "markdown",
      "source": [
        "3. What streets does Atlantic Commons join with?"
      ],
      "metadata": {
        "id": "Fud6nT6QGeqk"
      }
    },
    {
      "cell_type": "code",
      "source": [
        "con.sql(\"\"\"\n",
        "SELECT\n",
        "    s2.NAME AS intersecting_street\n",
        "FROM\n",
        "    nyc_streets s1\n",
        "JOIN\n",
        "    nyc_streets s2\n",
        "ON\n",
        "    ST_Intersects(s1.geom, s2.geom)\n",
        "WHERE\n",
        "    s1.NAME ILIKE 'Atlantic Commons';\n",
        "\"\"\")"
      ],
      "metadata": {
        "colab": {
          "base_uri": "https://localhost:8080/"
        },
        "id": "7mjrczr6G-eL",
        "outputId": "d14df15d-2276-4a14-e35a-6b06e60b222d"
      },
      "execution_count": 35,
      "outputs": [
        {
          "output_type": "execute_result",
          "data": {
            "text/plain": [
              "┌─────────────────────┐\n",
              "│ intersecting_street │\n",
              "│       varchar       │\n",
              "├─────────────────────┤\n",
              "│ S Oxford St         │\n",
              "│ Atlantic Commons    │\n",
              "│ Cumberland St       │\n",
              "└─────────────────────┘"
            ]
          },
          "metadata": {},
          "execution_count": 35
        }
      ]
    },
    {
      "cell_type": "markdown",
      "source": [
        "4. Approximately how many people live on (within 50 meters of) Atlantic Commons?"
      ],
      "metadata": {
        "id": "aVb61OauHGrS"
      }
    },
    {
      "cell_type": "code",
      "source": [
        "con.sql(\"\"\"\n",
        "SELECT\n",
        "    SUM(c.POPN_TOTAL) AS total_population\n",
        "FROM\n",
        "    nyc_census_blocks c\n",
        "JOIN\n",
        "    nyc_streets s\n",
        "ON\n",
        "    ST_DWithin(c.geom, s.geom, 50)  -- 检查人口几何是否在街道几何50米范围内\n",
        "WHERE\n",
        "    s.NAME ILIKE 'Atlantic Commons';\n",
        "\"\"\")"
      ],
      "metadata": {
        "colab": {
          "base_uri": "https://localhost:8080/"
        },
        "id": "WDop7MW-HI5c",
        "outputId": "319a8a9f-77b8-40e9-eb93-deae069d5d38"
      },
      "execution_count": 36,
      "outputs": [
        {
          "output_type": "execute_result",
          "data": {
            "text/plain": [
              "┌──────────────────┐\n",
              "│ total_population │\n",
              "│      int128      │\n",
              "├──────────────────┤\n",
              "│             1438 │\n",
              "└──────────────────┘"
            ]
          },
          "metadata": {},
          "execution_count": 36
        }
      ]
    }
  ]
}